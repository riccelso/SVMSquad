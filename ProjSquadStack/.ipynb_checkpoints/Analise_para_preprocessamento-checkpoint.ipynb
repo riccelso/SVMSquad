{
 "cells": [
  {
   "cell_type": "markdown",
   "id": "5d9867b3",
   "metadata": {},
   "source": [
    "# Fontes (biblioteca e links):"
   ]
  },
  {
   "cell_type": "markdown",
   "id": "6824e315",
   "metadata": {},
   "source": [
    "https://www.kaggle.com/olistbr/brazilian-ecommerce?select=olist_order_payments_dataset.csv"
   ]
  },
  {
   "cell_type": "code",
   "execution_count": 1,
   "id": "c58fcbcf",
   "metadata": {},
   "outputs": [],
   "source": [
    "import pandas as pd\n",
    "import numpy as np\n",
    "import matplotlib.pyplot as plt\n",
    "import seaborn as sns\n",
    "from datetime import timedelta, datetime\n",
    "sns.set()\n",
    "\n",
    "from IPython.display import display\n",
    "from IPython.display import Image\n",
    "pd.set_option('display.max_columns', None)"
   ]
  },
  {
   "cell_type": "markdown",
   "id": "77c893f2",
   "metadata": {},
   "source": [
    "# Estrutura dos dados:"
   ]
  },
  {
   "cell_type": "markdown",
   "id": "b7e54f31",
   "metadata": {},
   "source": [
    "## Desafio:\n",
    "- Modelo de machine learning que agrupe clientes como: ouro, prata e bronze\n",
    "- Features usadas -> receita média, quantidade de pedidos, retenção, recência"
   ]
  },
  {
   "cell_type": "markdown",
   "id": "bc9a35b3",
   "metadata": {},
   "source": [
    "# Raw datasets (extração bruta):"
   ]
  },
  {
   "cell_type": "markdown",
   "id": "431f6f3c",
   "metadata": {},
   "source": [
    "### Anotações sobre os arquivos e colunas importantes:\n",
    "**olistcsv/olist_order_items_dataset.csv ->**\n",
    "o preço do produto é preço + frete\n",
    "order_id, product_id\n",
    "\n",
    "**olistcsv/olist_order_payments_dataset.csv ->**\n",
    "order_id, payment_sequential, payment_type, payment_installments, payment_value\n",
    "\n",
    "**olistcsv/olist_customers_dataset.csv -> informações sobre o cliente**\n",
    "customer_id, customer_unique_id\n",
    "\n",
    "**olistcsv/olist_order_reviews_dataset.csv ->**\n",
    "order_id, review_id, review_score, review_comment_message\n",
    "\n",
    "**time notes ->**\n",
    "considerar compra por tempo, quantidade, compra média no tempo, primeira e última compra"
   ]
  },
  {
   "cell_type": "markdown",
   "id": "727b6999",
   "metadata": {},
   "source": [
    "### Lendo dados brutos:"
   ]
  },
  {
   "cell_type": "code",
   "execution_count": 2,
   "id": "c4dff04e",
   "metadata": {},
   "outputs": [],
   "source": [
    "# ADICIONAR ETAPA DO MinIO\n",
    "raw_price_freight = pd.read_csv('olistcsv/olist_order_items_dataset.csv')\n",
    "raw_payment = pd.read_csv('olistcsv/olist_order_payments_dataset.csv')\n",
    "raw_client_review = pd.read_csv('olistcsv/olist_order_reviews_dataset.csv')\n",
    "raw_orders_central = pd.read_csv('olistcsv/olist_orders_dataset.csv')\n",
    "raw_costumer = pd.read_csv('olistcsv/olist_customers_dataset.csv')"
   ]
  },
  {
   "cell_type": "markdown",
   "id": "7bdae875",
   "metadata": {},
   "source": [
    "### Unindos as tabelas e descrevendo \"shape\" e colunas:"
   ]
  },
  {
   "cell_type": "markdown",
   "id": "39a11fa3",
   "metadata": {},
   "source": [
    "raw_orders_central # Tabela dimensão -> 'order_id', 'customer_id'\n",
    "\n",
    "raw_costumer # Tabela dimensão -> 'customer_id', 'customer_unique_id'\n",
    "\n",
    "\n",
    "raw_price_freight # Tabela fato\n",
    "\n",
    "raw_payment # Tabela fato\n",
    "\n",
    "raw_client_review # Tabela fato"
   ]
  },
  {
   "cell_type": "code",
   "execution_count": 3,
   "id": "678e359f",
   "metadata": {},
   "outputs": [],
   "source": [
    "# Formação de tabelas e seus vínculos explicativos\n",
    "\n",
    "df1 = pd.merge(left=raw_orders_central, right=raw_costumer, on='customer_id', how='outer')\n",
    "price_freight = pd.merge(left=raw_price_freight, right=df1, on='order_id', how='left')\n",
    "payment = pd.merge(left=raw_payment, right=df1, on='order_id', how='left')\n",
    "client_review = pd.merge(left=raw_client_review, right=df1, on='order_id', how='left')"
   ]
  },
  {
   "cell_type": "code",
   "execution_count": 4,
   "id": "e0a4b4f1",
   "metadata": {},
   "outputs": [],
   "source": [
    "del raw_client_review, raw_costumer, raw_orders_central, raw_payment, raw_price_freight"
   ]
  },
  {
   "cell_type": "markdown",
   "id": "7b57ff3e",
   "metadata": {},
   "source": [
    "## Tratando os tipos de dados:"
   ]
  },
  {
   "cell_type": "code",
   "execution_count": 5,
   "id": "2113e1ea",
   "metadata": {},
   "outputs": [],
   "source": [
    "def transform(df: pd.DataFrame, colunas: list) -> pd.DataFrame:\n",
    "    for each in colunas:\n",
    "        df[each] = pd.to_datetime(df[each], errors='coerce')\n",
    "    df['customer_zip_code_prefix'].astype('object')"
   ]
  },
  {
   "cell_type": "code",
   "execution_count": 6,
   "id": "61e0c6d9",
   "metadata": {},
   "outputs": [],
   "source": [
    "# payment.dtypes,\n",
    "# price_freight.dtypes)\n",
    "\n",
    "# Tabela client_review\n",
    "colunas = ('review_creation_date review_answer_timestamp order_purchase_timestamp order_approved_at ' +\n",
    "'order_delivered_carrier_date order_delivered_customer_date order_estimated_delivery_date').split()\n",
    "\n",
    "transform(client_review, colunas)\n",
    "\n",
    "\n",
    "# Tabela payment \n",
    "colunas = ('order_purchase_timestamp order_approved_at order_delivered_carrier_date'\n",
    "          + ' order_delivered_customer_date order_estimated_delivery_date').split()\n",
    "\n",
    "transform(payment, colunas)\n",
    "\n",
    "\n",
    "# Tabela price_freight\n",
    "colunas = ('shipping_limit_date order_purchase_timestamp order_approved_at order_delivered_carrier_date'\n",
    "          + ' order_delivered_customer_date order_estimated_delivery_date').split()\n",
    "\n",
    "transform(price_freight, colunas)"
   ]
  },
  {
   "cell_type": "code",
   "execution_count": 7,
   "id": "4c0e098b",
   "metadata": {},
   "outputs": [],
   "source": [
    "del colunas"
   ]
  },
  {
   "cell_type": "markdown",
   "id": "1d84f10f",
   "metadata": {},
   "source": [
    "## Extraindo as colunas (features) para o modelo:"
   ]
  },
  {
   "cell_type": "markdown",
   "id": "79338ac4",
   "metadata": {},
   "source": [
    "Antes de tudo devemos definir o que queremos e o que cada um desses objetivos significa:\n",
    "receita média, quantidade de pedidos, retenção, recência\n",
    "1. **Quantidade de pedidos**: quantidade de pedidos realizados por cliente.\n",
    "2. **Retenção**: Período de compras do cliente, o tempo inicial sobre tempo final de suas compras realizadas.\n",
    "3. **Recência**: Diferença entre a data da última compra e a data de hoje.\n",
    "4. **Receita média**: receita gerada por cliente sobre a quantidade de pedidos realizados (receita média gerada pelo cliente) ou sobre o período que ele comprou (receita média gerada por cliente sobre tempo)."
   ]
  },
  {
   "cell_type": "code",
   "execution_count": 13,
   "id": "bbb60922",
   "metadata": {},
   "outputs": [],
   "source": [
    "dados = [price_freight, payment, client_review]\n",
    "price_freight.name = 'price_freight'\n",
    "payment.name = 'payment'\n",
    "client_review.name = 'client_review'"
   ]
  },
  {
   "cell_type": "code",
   "execution_count": 14,
   "id": "795940f4",
   "metadata": {},
   "outputs": [
    {
     "name": "stdout",
     "output_type": "stream",
     "text": [
      "price_freight\n",
      "Index(['order_id', 'order_item_id', 'product_id', 'seller_id',\n",
      "       'shipping_limit_date', 'price', 'freight_value', 'customer_id',\n",
      "       'order_status', 'order_purchase_timestamp', 'order_approved_at',\n",
      "       'order_delivered_carrier_date', 'order_delivered_customer_date',\n",
      "       'order_estimated_delivery_date', 'customer_unique_id',\n",
      "       'customer_zip_code_prefix', 'customer_city', 'customer_state'],\n",
      "      dtype='object')\n",
      "\n",
      "payment\n",
      "Index(['order_id', 'payment_sequential', 'payment_type',\n",
      "       'payment_installments', 'payment_value', 'customer_id', 'order_status',\n",
      "       'order_purchase_timestamp', 'order_approved_at',\n",
      "       'order_delivered_carrier_date', 'order_delivered_customer_date',\n",
      "       'order_estimated_delivery_date', 'customer_unique_id',\n",
      "       'customer_zip_code_prefix', 'customer_city', 'customer_state'],\n",
      "      dtype='object')\n",
      "\n",
      "client_review\n",
      "Index(['review_id', 'order_id', 'review_score', 'review_comment_title',\n",
      "       'review_comment_message', 'review_creation_date',\n",
      "       'review_answer_timestamp', 'customer_id', 'order_status',\n",
      "       'order_purchase_timestamp', 'order_approved_at',\n",
      "       'order_delivered_carrier_date', 'order_delivered_customer_date',\n",
      "       'order_estimated_delivery_date', 'customer_unique_id',\n",
      "       'customer_zip_code_prefix', 'customer_city', 'customer_state'],\n",
      "      dtype='object')\n",
      "\n"
     ]
    }
   ],
   "source": [
    "# DELETAR ESTA CÉLULA\n",
    "for d in dados: print(d.name, d.columns, sep='\\n', end='\\n\\n')"
   ]
  },
  {
   "cell_type": "markdown",
   "id": "1871ffbb",
   "metadata": {},
   "source": [
    "### 1. Quantidade de pedidos:"
   ]
  },
  {
   "cell_type": "markdown",
   "id": "60cf6ca2",
   "metadata": {},
   "source": [
    "Os dados abaixo descrevem a quantidade de compras feitas por cliente e a quantidade de itens por cliente"
   ]
  },
  {
   "cell_type": "code",
   "execution_count": 15,
   "id": "399ec6b1",
   "metadata": {},
   "outputs": [
    {
     "data": {
      "text/html": [
       "<div>\n",
       "<style scoped>\n",
       "    .dataframe tbody tr th:only-of-type {\n",
       "        vertical-align: middle;\n",
       "    }\n",
       "\n",
       "    .dataframe tbody tr th {\n",
       "        vertical-align: top;\n",
       "    }\n",
       "\n",
       "    .dataframe thead tr th {\n",
       "        text-align: left;\n",
       "    }\n",
       "\n",
       "    .dataframe thead tr:last-of-type th {\n",
       "        text-align: right;\n",
       "    }\n",
       "</style>\n",
       "<table border=\"1\" class=\"dataframe\">\n",
       "  <thead>\n",
       "    <tr>\n",
       "      <th></th>\n",
       "      <th colspan=\"2\" halign=\"left\">order_id</th>\n",
       "    </tr>\n",
       "    <tr>\n",
       "      <th></th>\n",
       "      <th>nunique</th>\n",
       "      <th>count</th>\n",
       "    </tr>\n",
       "    <tr>\n",
       "      <th>customer_unique_id</th>\n",
       "      <th></th>\n",
       "      <th></th>\n",
       "    </tr>\n",
       "  </thead>\n",
       "  <tbody>\n",
       "    <tr>\n",
       "      <th>c8460e4251689ba205045f3ea17884a1</th>\n",
       "      <td>4</td>\n",
       "      <td>24</td>\n",
       "    </tr>\n",
       "    <tr>\n",
       "      <th>4546caea018ad8c692964e3382debd19</th>\n",
       "      <td>1</td>\n",
       "      <td>21</td>\n",
       "    </tr>\n",
       "    <tr>\n",
       "      <th>698e1cf81d01a3d389d96145f7fa6df8</th>\n",
       "      <td>1</td>\n",
       "      <td>20</td>\n",
       "    </tr>\n",
       "    <tr>\n",
       "      <th>c402f431464c72e27330a67f7b94d4fb</th>\n",
       "      <td>1</td>\n",
       "      <td>20</td>\n",
       "    </tr>\n",
       "    <tr>\n",
       "      <th>0f5ac8d5c31de21d2f25e24be15bbffb</th>\n",
       "      <td>2</td>\n",
       "      <td>18</td>\n",
       "    </tr>\n",
       "    <tr>\n",
       "      <th>...</th>\n",
       "      <td>...</td>\n",
       "      <td>...</td>\n",
       "    </tr>\n",
       "    <tr>\n",
       "      <th>fffcc512b7dfecaffd80f13614af1d16</th>\n",
       "      <td>1</td>\n",
       "      <td>1</td>\n",
       "    </tr>\n",
       "    <tr>\n",
       "      <th>fffea47cd6d3cc0a88bd621562a9d061</th>\n",
       "      <td>1</td>\n",
       "      <td>1</td>\n",
       "    </tr>\n",
       "    <tr>\n",
       "      <th>ffff371b4d645b6ecea244b27531430a</th>\n",
       "      <td>1</td>\n",
       "      <td>1</td>\n",
       "    </tr>\n",
       "    <tr>\n",
       "      <th>ffff5962728ec6157033ef9805bacc48</th>\n",
       "      <td>1</td>\n",
       "      <td>1</td>\n",
       "    </tr>\n",
       "    <tr>\n",
       "      <th>ffffd2657e2aad2907e67c3e9daecbeb</th>\n",
       "      <td>1</td>\n",
       "      <td>1</td>\n",
       "    </tr>\n",
       "  </tbody>\n",
       "</table>\n",
       "<p>95420 rows × 2 columns</p>\n",
       "</div>"
      ],
      "text/plain": [
       "                                 order_id      \n",
       "                                  nunique count\n",
       "customer_unique_id                             \n",
       "c8460e4251689ba205045f3ea17884a1        4    24\n",
       "4546caea018ad8c692964e3382debd19        1    21\n",
       "698e1cf81d01a3d389d96145f7fa6df8        1    20\n",
       "c402f431464c72e27330a67f7b94d4fb        1    20\n",
       "0f5ac8d5c31de21d2f25e24be15bbffb        2    18\n",
       "...                                   ...   ...\n",
       "fffcc512b7dfecaffd80f13614af1d16        1     1\n",
       "fffea47cd6d3cc0a88bd621562a9d061        1     1\n",
       "ffff371b4d645b6ecea244b27531430a        1     1\n",
       "ffff5962728ec6157033ef9805bacc48        1     1\n",
       "ffffd2657e2aad2907e67c3e9daecbeb        1     1\n",
       "\n",
       "[95420 rows x 2 columns]"
      ]
     },
     "execution_count": 15,
     "metadata": {},
     "output_type": "execute_result"
    }
   ],
   "source": [
    "Cliente = dados[0][['customer_unique_id', 'order_id']].groupby(['customer_unique_id']).agg(['nunique','count']).sort_values([('order_id', 'count'), ('order_id', 'nunique')], ascending=False)\n",
    "Cliente"
   ]
  },
  {
   "cell_type": "markdown",
   "id": "e244abc2",
   "metadata": {},
   "source": [
    "A partir da tabela encontrada extrairemos os dados da contagem de pedidos realizados por cliente (order_id + nunique)"
   ]
  },
  {
   "cell_type": "code",
   "execution_count": 16,
   "id": "78031e0b",
   "metadata": {},
   "outputs": [
    {
     "data": {
      "text/plain": [
       "customer_unique_id\n",
       "8d50f5eadf50201ccdcedfb9e2ac8455    16\n",
       "3e43e6105506432c953e165fb2acf44c     9\n",
       "6469f99c1f9dfae7733b25662e7f1782     7\n",
       "1b6c7548a2a1f9037c1fd3ddfed95f33     7\n",
       "ca77025e7201e3b30c44b472ff346268     7\n",
       "                                    ..\n",
       "42c96a490485d6559935a102ede6b1c2     1\n",
       "42c933d49eb9dfdf9db525156e9aa506     1\n",
       "42c8ccbe558d063718d19cff01505af9     1\n",
       "42c837a3d7df8cfa87de63fbc1aade2f     1\n",
       "ffffd2657e2aad2907e67c3e9daecbeb     1\n",
       "Name: nunique, Length: 95420, dtype: int64"
      ]
     },
     "execution_count": 16,
     "metadata": {},
     "output_type": "execute_result"
    }
   ],
   "source": [
    "Cliente = Cliente['order_id']['nunique'].sort_values(ascending=False)\n",
    "Cliente"
   ]
  },
  {
   "cell_type": "markdown",
   "id": "f9eeab91",
   "metadata": {},
   "source": [
    "### Etapa intermediária:"
   ]
  },
  {
   "cell_type": "markdown",
   "id": "8c5898ed",
   "metadata": {},
   "source": [
    "Visando encontrar a retenção e a recência iremos trabalhar com a variável tempo, analisando seu comportamento e anexado a tabela principal que usaremos para o modelo. Usaremos a coluna \"order_purchase_timestamp\" para tal análise"
   ]
  },
  {
   "cell_type": "code",
   "execution_count": 17,
   "id": "baee1b33",
   "metadata": {},
   "outputs": [],
   "source": [
    "p2 = dados[0][['customer_unique_id', 'order_purchase_timestamp']].groupby(['customer_unique_id'], as_index=False).agg(['max', 'min'])['order_purchase_timestamp']\n",
    "p2['time'] = p2['max'] - p2['min']\n",
    "p2 = p2.reset_index()"
   ]
  },
  {
   "cell_type": "markdown",
   "id": "5a9e078d",
   "metadata": {},
   "source": [
    "substituiremos os valores que possuem \"0 dias\" de compra por \"1 dia\" de compra pois a diferença entre tempo máximo e mínimo das compras dos clientes que compraram somente uma vez gerou essa incoerência lógica."
   ]
  },
  {
   "cell_type": "code",
   "execution_count": 18,
   "id": "e6de94fa",
   "metadata": {
    "scrolled": true
   },
   "outputs": [
    {
     "name": "stderr",
     "output_type": "stream",
     "text": [
      "/tmp/ipykernel_7202/3648004967.py:1: SettingWithCopyWarning: \n",
      "A value is trying to be set on a copy of a slice from a DataFrame\n",
      "\n",
      "See the caveats in the documentation: https://pandas.pydata.org/pandas-docs/stable/user_guide/indexing.html#returning-a-view-versus-a-copy\n",
      "  p2.time[p2.time < timedelta(days=1)] = timedelta(days=1)\n"
     ]
    }
   ],
   "source": [
    "p2.time[p2.time < timedelta(days=1)] = timedelta(days=1)"
   ]
  },
  {
   "cell_type": "code",
   "execution_count": 19,
   "id": "4991ec4f",
   "metadata": {},
   "outputs": [
    {
     "data": {
      "text/html": [
       "<div>\n",
       "<style scoped>\n",
       "    .dataframe tbody tr th:only-of-type {\n",
       "        vertical-align: middle;\n",
       "    }\n",
       "\n",
       "    .dataframe tbody tr th {\n",
       "        vertical-align: top;\n",
       "    }\n",
       "\n",
       "    .dataframe thead th {\n",
       "        text-align: right;\n",
       "    }\n",
       "</style>\n",
       "<table border=\"1\" class=\"dataframe\">\n",
       "  <thead>\n",
       "    <tr style=\"text-align: right;\">\n",
       "      <th></th>\n",
       "      <th>customer_unique_id</th>\n",
       "      <th>max</th>\n",
       "      <th>min</th>\n",
       "      <th>time</th>\n",
       "    </tr>\n",
       "  </thead>\n",
       "  <tbody>\n",
       "    <tr>\n",
       "      <th>19031</th>\n",
       "      <td>32ea3bdedab835c3aa6cb68ce66565ef</td>\n",
       "      <td>2018-06-28 11:46:04</td>\n",
       "      <td>2016-10-03 09:44:50</td>\n",
       "      <td>633 days 02:01:14</td>\n",
       "    </tr>\n",
       "    <tr>\n",
       "      <th>76403</th>\n",
       "      <td>ccafc1c3f270410521c3c6f3b249870f</td>\n",
       "      <td>2018-06-07 19:03:12</td>\n",
       "      <td>2016-10-06 19:33:34</td>\n",
       "      <td>608 days 23:29:38</td>\n",
       "    </tr>\n",
       "    <tr>\n",
       "      <th>80964</th>\n",
       "      <td>d8f3c4f441a9b59a29f977df16724f38</td>\n",
       "      <td>2018-08-24 17:52:59</td>\n",
       "      <td>2017-01-18 21:08:18</td>\n",
       "      <td>582 days 20:44:41</td>\n",
       "    </tr>\n",
       "    <tr>\n",
       "      <th>55465</th>\n",
       "      <td>94e5ea5a8c1bf546db2739673060c43f</td>\n",
       "      <td>2018-05-09 13:49:19</td>\n",
       "      <td>2016-10-05 21:10:56</td>\n",
       "      <td>580 days 16:38:23</td>\n",
       "    </tr>\n",
       "    <tr>\n",
       "      <th>50627</th>\n",
       "      <td>87b3f231705783eb2217e25851c0a45d</td>\n",
       "      <td>2018-05-04 11:14:37</td>\n",
       "      <td>2016-10-08 18:45:34</td>\n",
       "      <td>572 days 16:29:03</td>\n",
       "    </tr>\n",
       "    <tr>\n",
       "      <th>...</th>\n",
       "      <td>...</td>\n",
       "      <td>...</td>\n",
       "      <td>...</td>\n",
       "      <td>...</td>\n",
       "    </tr>\n",
       "    <tr>\n",
       "      <th>32158</th>\n",
       "      <td>560f0209de88107bec357f67dade4362</td>\n",
       "      <td>2018-05-16 09:20:00</td>\n",
       "      <td>2018-05-16 09:20:00</td>\n",
       "      <td>1 days 00:00:00</td>\n",
       "    </tr>\n",
       "    <tr>\n",
       "      <th>32157</th>\n",
       "      <td>560a6e0ef8a24a50cd83690e297827ca</td>\n",
       "      <td>2017-05-02 21:33:57</td>\n",
       "      <td>2017-05-02 21:33:57</td>\n",
       "      <td>1 days 00:00:00</td>\n",
       "    </tr>\n",
       "    <tr>\n",
       "      <th>32156</th>\n",
       "      <td>560a6282f0b9f4176cb56ff6024632d8</td>\n",
       "      <td>2018-08-01 15:25:31</td>\n",
       "      <td>2018-08-01 15:25:31</td>\n",
       "      <td>1 days 00:00:00</td>\n",
       "    </tr>\n",
       "    <tr>\n",
       "      <th>32155</th>\n",
       "      <td>560a4662eb4a058fa759def32ff39feb</td>\n",
       "      <td>2018-04-01 20:56:06</td>\n",
       "      <td>2018-04-01 20:56:06</td>\n",
       "      <td>1 days 00:00:00</td>\n",
       "    </tr>\n",
       "    <tr>\n",
       "      <th>95419</th>\n",
       "      <td>ffffd2657e2aad2907e67c3e9daecbeb</td>\n",
       "      <td>2017-05-02 20:18:45</td>\n",
       "      <td>2017-05-02 20:18:45</td>\n",
       "      <td>1 days 00:00:00</td>\n",
       "    </tr>\n",
       "  </tbody>\n",
       "</table>\n",
       "<p>95420 rows × 4 columns</p>\n",
       "</div>"
      ],
      "text/plain": [
       "                     customer_unique_id                 max  \\\n",
       "19031  32ea3bdedab835c3aa6cb68ce66565ef 2018-06-28 11:46:04   \n",
       "76403  ccafc1c3f270410521c3c6f3b249870f 2018-06-07 19:03:12   \n",
       "80964  d8f3c4f441a9b59a29f977df16724f38 2018-08-24 17:52:59   \n",
       "55465  94e5ea5a8c1bf546db2739673060c43f 2018-05-09 13:49:19   \n",
       "50627  87b3f231705783eb2217e25851c0a45d 2018-05-04 11:14:37   \n",
       "...                                 ...                 ...   \n",
       "32158  560f0209de88107bec357f67dade4362 2018-05-16 09:20:00   \n",
       "32157  560a6e0ef8a24a50cd83690e297827ca 2017-05-02 21:33:57   \n",
       "32156  560a6282f0b9f4176cb56ff6024632d8 2018-08-01 15:25:31   \n",
       "32155  560a4662eb4a058fa759def32ff39feb 2018-04-01 20:56:06   \n",
       "95419  ffffd2657e2aad2907e67c3e9daecbeb 2017-05-02 20:18:45   \n",
       "\n",
       "                      min              time  \n",
       "19031 2016-10-03 09:44:50 633 days 02:01:14  \n",
       "76403 2016-10-06 19:33:34 608 days 23:29:38  \n",
       "80964 2017-01-18 21:08:18 582 days 20:44:41  \n",
       "55465 2016-10-05 21:10:56 580 days 16:38:23  \n",
       "50627 2016-10-08 18:45:34 572 days 16:29:03  \n",
       "...                   ...               ...  \n",
       "32158 2018-05-16 09:20:00   1 days 00:00:00  \n",
       "32157 2017-05-02 21:33:57   1 days 00:00:00  \n",
       "32156 2018-08-01 15:25:31   1 days 00:00:00  \n",
       "32155 2018-04-01 20:56:06   1 days 00:00:00  \n",
       "95419 2017-05-02 20:18:45   1 days 00:00:00  \n",
       "\n",
       "[95420 rows x 4 columns]"
      ]
     },
     "execution_count": 19,
     "metadata": {},
     "output_type": "execute_result"
    }
   ],
   "source": [
    "p2.sort_values('time', ascending=False)"
   ]
  },
  {
   "cell_type": "markdown",
   "id": "fa38c662",
   "metadata": {},
   "source": [
    "### 2. Retenção:"
   ]
  },
  {
   "cell_type": "markdown",
   "id": "c566b7ff",
   "metadata": {},
   "source": [
    "Podemos ver a distribuição dos dados que demonstram a quantidade de clientes e seus respectivos tempos como clientes."
   ]
  },
  {
   "cell_type": "code",
   "execution_count": 20,
   "id": "041c808b",
   "metadata": {},
   "outputs": [
    {
     "data": {
      "text/plain": [
       "1 dia     97.8809%\n",
       "6 dias     0.0314%\n",
       "2 dias     0.0314%\n",
       "3 dias     0.0272%\n",
       "dtype: object"
      ]
     },
     "execution_count": 20,
     "metadata": {},
     "output_type": "execute_result"
    }
   ],
   "source": [
    "dist = p2.time.dt.days.sort_values(ascending=False)\n",
    "dist = pd.Series(np.where(dist == 1, dist.astype(str) + ' dia', dist.astype(str) + ' dias'))\n",
    "((dist.value_counts().nlargest(4) / dist.value_counts().sum()).round(6) * 100).astype(str) + '%'"
   ]
  },
  {
   "cell_type": "markdown",
   "id": "8c816586",
   "metadata": {},
   "source": [
    "A visualização de dados acima nos permite enxergar com clareza como a quantidade de compras é feita em somente uma data específica, ou seja, baixa retenção dos clientes"
   ]
  },
  {
   "cell_type": "markdown",
   "id": "d154549e",
   "metadata": {},
   "source": [
    "Agora que compreendemos a composição dos dados que serão inseridos na nossa tabela X (variável explicativa), podemos prosseguir com esta união"
   ]
  },
  {
   "cell_type": "code",
   "execution_count": 21,
   "id": "1f91152d",
   "metadata": {},
   "outputs": [],
   "source": [
    "Cliente = pd.merge(left=Cliente, right=p2[['customer_unique_id', 'time']], how='outer', on='customer_unique_id').sort_values('time', ascending=False)"
   ]
  },
  {
   "cell_type": "markdown",
   "id": "dc7514fb",
   "metadata": {},
   "source": [
    "### 3. Recência:"
   ]
  },
  {
   "cell_type": "markdown",
   "id": "2d7634bf",
   "metadata": {},
   "source": [
    "Usaremos a coluna \"max\" para, através da data da última compra, realizarmos a comparação com a data de hoje visando encontrar o tempo de ausência desde a última compra"
   ]
  },
  {
   "cell_type": "code",
   "execution_count": 22,
   "id": "a8077ab8",
   "metadata": {},
   "outputs": [],
   "source": [
    "p2['recencia'] = np.array([datetime.today() for _ in range(p2['max'].shape[0])], dtype=np.datetime64) - p2['max']\n",
    "Cliente = pd.merge(left=Cliente, right=p2[['customer_unique_id', 'recencia']], how='outer', on='customer_unique_id').sort_values('time', ascending=False)"
   ]
  },
  {
   "cell_type": "code",
   "execution_count": 23,
   "id": "0d9a2038",
   "metadata": {},
   "outputs": [],
   "source": [
    "Cliente.columns = 'cliente quantia_comprada retencao recencia'.split()"
   ]
  },
  {
   "cell_type": "code",
   "execution_count": 24,
   "id": "7b119e17",
   "metadata": {},
   "outputs": [
    {
     "data": {
      "text/html": [
       "<div>\n",
       "<style scoped>\n",
       "    .dataframe tbody tr th:only-of-type {\n",
       "        vertical-align: middle;\n",
       "    }\n",
       "\n",
       "    .dataframe tbody tr th {\n",
       "        vertical-align: top;\n",
       "    }\n",
       "\n",
       "    .dataframe thead th {\n",
       "        text-align: right;\n",
       "    }\n",
       "</style>\n",
       "<table border=\"1\" class=\"dataframe\">\n",
       "  <thead>\n",
       "    <tr style=\"text-align: right;\">\n",
       "      <th></th>\n",
       "      <th>cliente</th>\n",
       "      <th>quantia_comprada</th>\n",
       "      <th>retencao</th>\n",
       "      <th>recencia</th>\n",
       "    </tr>\n",
       "  </thead>\n",
       "  <tbody>\n",
       "    <tr>\n",
       "      <th>0</th>\n",
       "      <td>32ea3bdedab835c3aa6cb68ce66565ef</td>\n",
       "      <td>3</td>\n",
       "      <td>633 days 02:01:14</td>\n",
       "      <td>1299 days 09:01:39.889605</td>\n",
       "    </tr>\n",
       "    <tr>\n",
       "      <th>1</th>\n",
       "      <td>ccafc1c3f270410521c3c6f3b249870f</td>\n",
       "      <td>2</td>\n",
       "      <td>608 days 23:29:38</td>\n",
       "      <td>1320 days 01:44:31.968324</td>\n",
       "    </tr>\n",
       "    <tr>\n",
       "      <th>2</th>\n",
       "      <td>d8f3c4f441a9b59a29f977df16724f38</td>\n",
       "      <td>2</td>\n",
       "      <td>582 days 20:44:41</td>\n",
       "      <td>1242 days 02:54:44.972017</td>\n",
       "    </tr>\n",
       "    <tr>\n",
       "      <th>3</th>\n",
       "      <td>94e5ea5a8c1bf546db2739673060c43f</td>\n",
       "      <td>2</td>\n",
       "      <td>580 days 16:38:23</td>\n",
       "      <td>1349 days 06:58:24.949000</td>\n",
       "    </tr>\n",
       "    <tr>\n",
       "      <th>4</th>\n",
       "      <td>87b3f231705783eb2217e25851c0a45d</td>\n",
       "      <td>2</td>\n",
       "      <td>572 days 16:29:03</td>\n",
       "      <td>1354 days 09:33:06.945035</td>\n",
       "    </tr>\n",
       "    <tr>\n",
       "      <th>...</th>\n",
       "      <td>...</td>\n",
       "      <td>...</td>\n",
       "      <td>...</td>\n",
       "      <td>...</td>\n",
       "    </tr>\n",
       "    <tr>\n",
       "      <th>33177</th>\n",
       "      <td>42c8ccbe558d063718d19cff01505af9</td>\n",
       "      <td>1</td>\n",
       "      <td>1 days 00:00:00</td>\n",
       "      <td>1660 days 21:29:45.905332</td>\n",
       "    </tr>\n",
       "    <tr>\n",
       "      <th>33176</th>\n",
       "      <td>42c837a3d7df8cfa87de63fbc1aade2f</td>\n",
       "      <td>1</td>\n",
       "      <td>1 days 00:00:00</td>\n",
       "      <td>1273 days 07:23:37.905328</td>\n",
       "    </tr>\n",
       "    <tr>\n",
       "      <th>33175</th>\n",
       "      <td>42c7e57c48d38fc34ed69508a092abcd</td>\n",
       "      <td>1</td>\n",
       "      <td>1 days 00:00:00</td>\n",
       "      <td>1312 days 11:27:22.905320</td>\n",
       "    </tr>\n",
       "    <tr>\n",
       "      <th>33174</th>\n",
       "      <td>42f3aebe1309a0f58863f1ec28898969</td>\n",
       "      <td>1</td>\n",
       "      <td>1 days 00:00:00</td>\n",
       "      <td>1286 days 12:34:12.905596</td>\n",
       "    </tr>\n",
       "    <tr>\n",
       "      <th>95419</th>\n",
       "      <td>ffffd2657e2aad2907e67c3e9daecbeb</td>\n",
       "      <td>1</td>\n",
       "      <td>1 days 00:00:00</td>\n",
       "      <td>1721 days 00:28:58.983812</td>\n",
       "    </tr>\n",
       "  </tbody>\n",
       "</table>\n",
       "<p>95420 rows × 4 columns</p>\n",
       "</div>"
      ],
      "text/plain": [
       "                                cliente  quantia_comprada          retencao  \\\n",
       "0      32ea3bdedab835c3aa6cb68ce66565ef                 3 633 days 02:01:14   \n",
       "1      ccafc1c3f270410521c3c6f3b249870f                 2 608 days 23:29:38   \n",
       "2      d8f3c4f441a9b59a29f977df16724f38                 2 582 days 20:44:41   \n",
       "3      94e5ea5a8c1bf546db2739673060c43f                 2 580 days 16:38:23   \n",
       "4      87b3f231705783eb2217e25851c0a45d                 2 572 days 16:29:03   \n",
       "...                                 ...               ...               ...   \n",
       "33177  42c8ccbe558d063718d19cff01505af9                 1   1 days 00:00:00   \n",
       "33176  42c837a3d7df8cfa87de63fbc1aade2f                 1   1 days 00:00:00   \n",
       "33175  42c7e57c48d38fc34ed69508a092abcd                 1   1 days 00:00:00   \n",
       "33174  42f3aebe1309a0f58863f1ec28898969                 1   1 days 00:00:00   \n",
       "95419  ffffd2657e2aad2907e67c3e9daecbeb                 1   1 days 00:00:00   \n",
       "\n",
       "                       recencia  \n",
       "0     1299 days 09:01:39.889605  \n",
       "1     1320 days 01:44:31.968324  \n",
       "2     1242 days 02:54:44.972017  \n",
       "3     1349 days 06:58:24.949000  \n",
       "4     1354 days 09:33:06.945035  \n",
       "...                         ...  \n",
       "33177 1660 days 21:29:45.905332  \n",
       "33176 1273 days 07:23:37.905328  \n",
       "33175 1312 days 11:27:22.905320  \n",
       "33174 1286 days 12:34:12.905596  \n",
       "95419 1721 days 00:28:58.983812  \n",
       "\n",
       "[95420 rows x 4 columns]"
      ]
     },
     "execution_count": 24,
     "metadata": {},
     "output_type": "execute_result"
    }
   ],
   "source": [
    "Cliente"
   ]
  },
  {
   "cell_type": "markdown",
   "id": "0795fce9",
   "metadata": {},
   "source": [
    "### 4. Receita média:"
   ]
  },
  {
   "cell_type": "markdown",
   "id": "e767a674",
   "metadata": {},
   "source": [
    "Para encontrarmos a receita do total de compras feitas por cliente devemos realizar o agrupamento por cliente, soma-lo e anexa-lo na Tabela Cliente."
   ]
  },
  {
   "cell_type": "code",
   "execution_count": 25,
   "id": "e45195cd",
   "metadata": {},
   "outputs": [],
   "source": [
    "p1 = dados[0][['customer_unique_id', 'price', 'freight_value']].groupby('customer_unique_id', as_index=False).sum() #.groupby()\n",
    "\n",
    "# MUDAR p1['receita_total_por_cliente'] PARA \"p1.price\" CASO A RECEITA NÃO DEVA CONSIDERAR O FRETE\n",
    "# OU p1.rename({'price':'receita_total_por_cliente'}, axis=1) E DELETE A LINHA ABAIXO\n",
    "p1['receita_total_por_cliente'] = p1.price + p1.freight_value\n",
    "Cliente = pd.merge(left=Cliente, right=p1[['customer_unique_id', 'receita_total_por_cliente']], left_on='cliente', right_on='customer_unique_id', how='outer').drop(columns='customer_unique_id')"
   ]
  },
  {
   "cell_type": "markdown",
   "id": "6a77aa5e",
   "metadata": {},
   "source": [
    "Agora seram formadas as duas últimas variáveis relacionadas a coluna da receita por cliente"
   ]
  },
  {
   "cell_type": "code",
   "execution_count": 26,
   "id": "9f45f8fd",
   "metadata": {},
   "outputs": [
    {
     "data": {
      "text/html": [
       "<div>\n",
       "<style scoped>\n",
       "    .dataframe tbody tr th:only-of-type {\n",
       "        vertical-align: middle;\n",
       "    }\n",
       "\n",
       "    .dataframe tbody tr th {\n",
       "        vertical-align: top;\n",
       "    }\n",
       "\n",
       "    .dataframe thead th {\n",
       "        text-align: right;\n",
       "    }\n",
       "</style>\n",
       "<table border=\"1\" class=\"dataframe\">\n",
       "  <thead>\n",
       "    <tr style=\"text-align: right;\">\n",
       "      <th></th>\n",
       "      <th>cliente</th>\n",
       "      <th>quantia_comprada</th>\n",
       "      <th>retencao</th>\n",
       "      <th>recencia</th>\n",
       "      <th>receita_media_por_quantia</th>\n",
       "      <th>receita_media_por_dia</th>\n",
       "    </tr>\n",
       "  </thead>\n",
       "  <tbody>\n",
       "    <tr>\n",
       "      <th>0</th>\n",
       "      <td>32ea3bdedab835c3aa6cb68ce66565ef</td>\n",
       "      <td>3</td>\n",
       "      <td>633 days 02:01:14</td>\n",
       "      <td>1299 days 09:01:39.889605</td>\n",
       "      <td>45.720</td>\n",
       "      <td>0.216682</td>\n",
       "    </tr>\n",
       "    <tr>\n",
       "      <th>1</th>\n",
       "      <td>ccafc1c3f270410521c3c6f3b249870f</td>\n",
       "      <td>2</td>\n",
       "      <td>608 days 23:29:38</td>\n",
       "      <td>1320 days 01:44:31.968324</td>\n",
       "      <td>103.755</td>\n",
       "      <td>0.341299</td>\n",
       "    </tr>\n",
       "    <tr>\n",
       "      <th>2</th>\n",
       "      <td>d8f3c4f441a9b59a29f977df16724f38</td>\n",
       "      <td>2</td>\n",
       "      <td>582 days 20:44:41</td>\n",
       "      <td>1242 days 02:54:44.972017</td>\n",
       "      <td>79.255</td>\n",
       "      <td>0.272354</td>\n",
       "    </tr>\n",
       "    <tr>\n",
       "      <th>3</th>\n",
       "      <td>94e5ea5a8c1bf546db2739673060c43f</td>\n",
       "      <td>2</td>\n",
       "      <td>580 days 16:38:23</td>\n",
       "      <td>1349 days 06:58:24.949000</td>\n",
       "      <td>93.585</td>\n",
       "      <td>0.322707</td>\n",
       "    </tr>\n",
       "    <tr>\n",
       "      <th>4</th>\n",
       "      <td>87b3f231705783eb2217e25851c0a45d</td>\n",
       "      <td>2</td>\n",
       "      <td>572 days 16:29:03</td>\n",
       "      <td>1354 days 09:33:06.945035</td>\n",
       "      <td>261.560</td>\n",
       "      <td>0.914545</td>\n",
       "    </tr>\n",
       "    <tr>\n",
       "      <th>...</th>\n",
       "      <td>...</td>\n",
       "      <td>...</td>\n",
       "      <td>...</td>\n",
       "      <td>...</td>\n",
       "      <td>...</td>\n",
       "      <td>...</td>\n",
       "    </tr>\n",
       "    <tr>\n",
       "      <th>95415</th>\n",
       "      <td>42c8ccbe558d063718d19cff01505af9</td>\n",
       "      <td>1</td>\n",
       "      <td>1 days 00:00:00</td>\n",
       "      <td>1660 days 21:29:45.905332</td>\n",
       "      <td>259.960</td>\n",
       "      <td>259.960000</td>\n",
       "    </tr>\n",
       "    <tr>\n",
       "      <th>95416</th>\n",
       "      <td>42c837a3d7df8cfa87de63fbc1aade2f</td>\n",
       "      <td>1</td>\n",
       "      <td>1 days 00:00:00</td>\n",
       "      <td>1273 days 07:23:37.905328</td>\n",
       "      <td>98.900</td>\n",
       "      <td>98.900000</td>\n",
       "    </tr>\n",
       "    <tr>\n",
       "      <th>95417</th>\n",
       "      <td>42c7e57c48d38fc34ed69508a092abcd</td>\n",
       "      <td>1</td>\n",
       "      <td>1 days 00:00:00</td>\n",
       "      <td>1312 days 11:27:22.905320</td>\n",
       "      <td>138.460</td>\n",
       "      <td>138.460000</td>\n",
       "    </tr>\n",
       "    <tr>\n",
       "      <th>95418</th>\n",
       "      <td>42f3aebe1309a0f58863f1ec28898969</td>\n",
       "      <td>1</td>\n",
       "      <td>1 days 00:00:00</td>\n",
       "      <td>1286 days 12:34:12.905596</td>\n",
       "      <td>42.530</td>\n",
       "      <td>42.530000</td>\n",
       "    </tr>\n",
       "    <tr>\n",
       "      <th>95419</th>\n",
       "      <td>ffffd2657e2aad2907e67c3e9daecbeb</td>\n",
       "      <td>1</td>\n",
       "      <td>1 days 00:00:00</td>\n",
       "      <td>1721 days 00:28:58.983812</td>\n",
       "      <td>71.560</td>\n",
       "      <td>71.560000</td>\n",
       "    </tr>\n",
       "  </tbody>\n",
       "</table>\n",
       "<p>95420 rows × 6 columns</p>\n",
       "</div>"
      ],
      "text/plain": [
       "                                cliente  quantia_comprada          retencao  \\\n",
       "0      32ea3bdedab835c3aa6cb68ce66565ef                 3 633 days 02:01:14   \n",
       "1      ccafc1c3f270410521c3c6f3b249870f                 2 608 days 23:29:38   \n",
       "2      d8f3c4f441a9b59a29f977df16724f38                 2 582 days 20:44:41   \n",
       "3      94e5ea5a8c1bf546db2739673060c43f                 2 580 days 16:38:23   \n",
       "4      87b3f231705783eb2217e25851c0a45d                 2 572 days 16:29:03   \n",
       "...                                 ...               ...               ...   \n",
       "95415  42c8ccbe558d063718d19cff01505af9                 1   1 days 00:00:00   \n",
       "95416  42c837a3d7df8cfa87de63fbc1aade2f                 1   1 days 00:00:00   \n",
       "95417  42c7e57c48d38fc34ed69508a092abcd                 1   1 days 00:00:00   \n",
       "95418  42f3aebe1309a0f58863f1ec28898969                 1   1 days 00:00:00   \n",
       "95419  ffffd2657e2aad2907e67c3e9daecbeb                 1   1 days 00:00:00   \n",
       "\n",
       "                       recencia  receita_media_por_quantia  \\\n",
       "0     1299 days 09:01:39.889605                     45.720   \n",
       "1     1320 days 01:44:31.968324                    103.755   \n",
       "2     1242 days 02:54:44.972017                     79.255   \n",
       "3     1349 days 06:58:24.949000                     93.585   \n",
       "4     1354 days 09:33:06.945035                    261.560   \n",
       "...                         ...                        ...   \n",
       "95415 1660 days 21:29:45.905332                    259.960   \n",
       "95416 1273 days 07:23:37.905328                     98.900   \n",
       "95417 1312 days 11:27:22.905320                    138.460   \n",
       "95418 1286 days 12:34:12.905596                     42.530   \n",
       "95419 1721 days 00:28:58.983812                     71.560   \n",
       "\n",
       "       receita_media_por_dia  \n",
       "0                   0.216682  \n",
       "1                   0.341299  \n",
       "2                   0.272354  \n",
       "3                   0.322707  \n",
       "4                   0.914545  \n",
       "...                      ...  \n",
       "95415             259.960000  \n",
       "95416              98.900000  \n",
       "95417             138.460000  \n",
       "95418              42.530000  \n",
       "95419              71.560000  \n",
       "\n",
       "[95420 rows x 6 columns]"
      ]
     },
     "execution_count": 26,
     "metadata": {},
     "output_type": "execute_result"
    }
   ],
   "source": [
    "Cliente['receita_media_por_quantia'] = Cliente['receita_total_por_cliente']/Cliente['quantia_comprada']\n",
    "Cliente['receita_media_por_dia'] = Cliente['receita_total_por_cliente']/Cliente['retencao'].dt.days\n",
    "Cliente.drop(columns='receita_total_por_cliente', inplace=True)\n",
    "Cliente"
   ]
  },
  {
   "cell_type": "code",
   "execution_count": null,
   "id": "41e72b54",
   "metadata": {},
   "outputs": [],
   "source": []
  }
 ],
 "metadata": {
  "kernelspec": {
   "display_name": "env",
   "language": "python",
   "name": "env"
  },
  "language_info": {
   "codemirror_mode": {
    "name": "ipython",
    "version": 3
   },
   "file_extension": ".py",
   "mimetype": "text/x-python",
   "name": "python",
   "nbconvert_exporter": "python",
   "pygments_lexer": "ipython3",
   "version": "3.10.1"
  }
 },
 "nbformat": 4,
 "nbformat_minor": 5
}
