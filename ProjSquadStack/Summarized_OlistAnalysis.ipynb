{
 "cells": [
  {
   "cell_type": "code",
   "execution_count": 1,
   "id": "c58fcbcf",
   "metadata": {
    "id": "c58fcbcf"
   },
   "outputs": [],
   "source": [
    "import pandas as pd\n",
    "import numpy as np\n",
    "from datetime import timedelta, datetime"
   ]
  },
  {
   "cell_type": "code",
   "execution_count": 2,
   "id": "c4dff04e",
   "metadata": {
    "id": "c4dff04e"
   },
   "outputs": [],
   "source": [
    "# ADICIONAR ETAPA DO MinIO\n",
    "path = '/home/ricardo/Documentos/git/SVMSquad/ProjSquadStack/olistcsv/'\n",
    "raw_price_freight = pd.read_csv(path + 'olist_order_items_dataset.csv')\n",
    "raw_payment = pd.read_csv(path + 'olist_order_payments_dataset.csv')\n",
    "raw_client_review = pd.read_csv(path + 'olist_order_reviews_dataset.csv')\n",
    "raw_orders_central = pd.read_csv(path + 'olist_orders_dataset.csv')\n",
    "raw_costumer = pd.read_csv(path + 'olist_customers_dataset.csv')"
   ]
  },
  {
   "cell_type": "code",
   "execution_count": 3,
   "id": "678e359f",
   "metadata": {
    "id": "678e359f"
   },
   "outputs": [],
   "source": [
    "# Formação de tabelas e seus vínculos explicativos\n",
    "\n",
    "df1 = pd.merge(left=raw_orders_central, right=raw_costumer, on='customer_id', how='outer')\n",
    "price_freight = pd.merge(left=raw_price_freight, right=df1, on='order_id', how='left')\n",
    "payment = pd.merge(left=raw_payment, right=df1, on='order_id', how='left')\n",
    "client_review = pd.merge(left=raw_client_review, right=df1, on='order_id', how='left')"
   ]
  },
  {
   "cell_type": "code",
   "execution_count": 4,
   "id": "e0a4b4f1",
   "metadata": {
    "id": "e0a4b4f1"
   },
   "outputs": [],
   "source": [
    "del raw_client_review, raw_costumer, raw_orders_central, raw_payment, raw_price_freight"
   ]
  },
  {
   "cell_type": "code",
   "execution_count": 5,
   "id": "2113e1ea",
   "metadata": {
    "id": "2113e1ea"
   },
   "outputs": [],
   "source": [
    "def transform(df: pd.DataFrame, colunas: list) -> pd.DataFrame:\n",
    "    for each in colunas:\n",
    "        df[each] = pd.to_datetime(df[each], errors='coerce')\n",
    "    df['customer_zip_code_prefix'].astype('object')"
   ]
  },
  {
   "cell_type": "code",
   "execution_count": 6,
   "id": "61e0c6d9",
   "metadata": {
    "id": "61e0c6d9"
   },
   "outputs": [],
   "source": [
    "# Tabela client_review\n",
    "colunas = ('review_creation_date review_answer_timestamp order_purchase_timestamp order_approved_at ' +\n",
    "'order_delivered_carrier_date order_delivered_customer_date order_estimated_delivery_date').split()\n",
    "\n",
    "transform(client_review, colunas)\n",
    "\n",
    "\n",
    "# Tabela payment \n",
    "colunas = ('order_purchase_timestamp order_approved_at order_delivered_carrier_date'\n",
    "          + ' order_delivered_customer_date order_estimated_delivery_date').split()\n",
    "\n",
    "transform(payment, colunas)\n",
    "\n",
    "\n",
    "# Tabela price_freight\n",
    "colunas = ('shipping_limit_date order_purchase_timestamp order_approved_at order_delivered_carrier_date'\n",
    "          + ' order_delivered_customer_date order_estimated_delivery_date').split()\n",
    "\n",
    "transform(price_freight, colunas)"
   ]
  },
  {
   "cell_type": "code",
   "execution_count": 7,
   "id": "4c0e098b",
   "metadata": {
    "id": "4c0e098b"
   },
   "outputs": [],
   "source": [
    "del colunas"
   ]
  },
  {
   "cell_type": "code",
   "execution_count": 8,
   "id": "399ec6b1",
   "metadata": {
    "colab": {
     "base_uri": "https://localhost:8080/",
     "height": 486
    },
    "id": "399ec6b1",
    "outputId": "6124eb58-741c-4cc2-ad4f-b90aa4ce7b2b"
   },
   "outputs": [],
   "source": [
    "Cliente = price_freight[['customer_unique_id', 'order_id']].groupby(['customer_unique_id']).agg(['nunique','count']).sort_values([('order_id', 'count'), ('order_id', 'nunique')], ascending=False)"
   ]
  },
  {
   "cell_type": "code",
   "execution_count": 9,
   "id": "78031e0b",
   "metadata": {
    "colab": {
     "base_uri": "https://localhost:8080/"
    },
    "id": "78031e0b",
    "outputId": "4d8851e1-68e3-4c87-f9a7-51abfeb38d05"
   },
   "outputs": [],
   "source": [
    "Cliente = Cliente['order_id']['nunique'].sort_values(ascending=False)"
   ]
  },
  {
   "cell_type": "code",
   "execution_count": 10,
   "id": "baee1b33",
   "metadata": {
    "id": "baee1b33"
   },
   "outputs": [
    {
     "name": "stderr",
     "output_type": "stream",
     "text": [
      "/tmp/ipykernel_3326/3696437222.py:4: SettingWithCopyWarning: \n",
      "A value is trying to be set on a copy of a slice from a DataFrame\n",
      "\n",
      "See the caveats in the documentation: https://pandas.pydata.org/pandas-docs/stable/user_guide/indexing.html#returning-a-view-versus-a-copy\n",
      "  p2.time[p2.time < timedelta(days=1)] = timedelta(days=1)\n"
     ]
    }
   ],
   "source": [
    "p2 = price_freight[['customer_unique_id', 'order_purchase_timestamp']].groupby(['customer_unique_id'], as_index=False).agg(['max', 'min'])['order_purchase_timestamp']\n",
    "p2['time'] = p2['max'] - p2['min']\n",
    "p2 = p2.reset_index()\n",
    "p2.time[p2.time < timedelta(days=1)] = timedelta(days=1)"
   ]
  },
  {
   "cell_type": "code",
   "execution_count": 11,
   "id": "1f91152d",
   "metadata": {
    "id": "1f91152d"
   },
   "outputs": [],
   "source": [
    "Cliente = pd.merge(left=Cliente, right=p2[['customer_unique_id', 'time']], how='outer', on='customer_unique_id').sort_values('time', ascending=False)"
   ]
  },
  {
   "cell_type": "code",
   "execution_count": 12,
   "id": "a8077ab8",
   "metadata": {
    "id": "a8077ab8"
   },
   "outputs": [],
   "source": [
    "p2['recencia'] = np.array([datetime.today() for _ in range(p2['max'].shape[0])], dtype=np.datetime64) - p2['max']\n",
    "Cliente = pd.merge(left=Cliente, right=p2[['customer_unique_id', 'recencia']], how='outer', on='customer_unique_id').sort_values('time', ascending=False)"
   ]
  },
  {
   "cell_type": "code",
   "execution_count": 13,
   "id": "0d9a2038",
   "metadata": {
    "id": "0d9a2038"
   },
   "outputs": [],
   "source": [
    "Cliente.columns = 'cliente quantia_comprada retencao recencia'.split()"
   ]
  },
  {
   "cell_type": "code",
   "execution_count": 14,
   "id": "e45195cd",
   "metadata": {
    "id": "e45195cd"
   },
   "outputs": [],
   "source": [
    "p1 = price_freight[['customer_unique_id', 'price', 'freight_value']].groupby('customer_unique_id', as_index=False).sum() #.groupby()\n",
    "p1['receita_total_por_cliente'] = p1.price + p1.freight_value\n",
    "Cliente = pd.merge(left=Cliente, right=p1[['customer_unique_id', 'receita_total_por_cliente']], left_on='cliente', right_on='customer_unique_id', how='outer').drop(columns='customer_unique_id')"
   ]
  },
  {
   "cell_type": "code",
   "execution_count": 15,
   "id": "ff76fef0",
   "metadata": {},
   "outputs": [
    {
     "data": {
      "text/html": [
       "<div>\n",
       "<style scoped>\n",
       "    .dataframe tbody tr th:only-of-type {\n",
       "        vertical-align: middle;\n",
       "    }\n",
       "\n",
       "    .dataframe tbody tr th {\n",
       "        vertical-align: top;\n",
       "    }\n",
       "\n",
       "    .dataframe thead th {\n",
       "        text-align: right;\n",
       "    }\n",
       "</style>\n",
       "<table border=\"1\" class=\"dataframe\">\n",
       "  <thead>\n",
       "    <tr style=\"text-align: right;\">\n",
       "      <th></th>\n",
       "      <th>cliente</th>\n",
       "      <th>quantia_comprada</th>\n",
       "      <th>retencao</th>\n",
       "      <th>recencia</th>\n",
       "      <th>receita_total_por_cliente</th>\n",
       "    </tr>\n",
       "  </thead>\n",
       "  <tbody>\n",
       "    <tr>\n",
       "      <th>0</th>\n",
       "      <td>32ea3bdedab835c3aa6cb68ce66565ef</td>\n",
       "      <td>3</td>\n",
       "      <td>633 days 02:01:14</td>\n",
       "      <td>1311 days 23:22:58.570812</td>\n",
       "      <td>137.16</td>\n",
       "    </tr>\n",
       "    <tr>\n",
       "      <th>1</th>\n",
       "      <td>ccafc1c3f270410521c3c6f3b249870f</td>\n",
       "      <td>2</td>\n",
       "      <td>608 days 23:29:38</td>\n",
       "      <td>1332 days 16:05:50.679461</td>\n",
       "      <td>207.51</td>\n",
       "    </tr>\n",
       "    <tr>\n",
       "      <th>2</th>\n",
       "      <td>d8f3c4f441a9b59a29f977df16724f38</td>\n",
       "      <td>2</td>\n",
       "      <td>582 days 20:44:41</td>\n",
       "      <td>1254 days 17:16:03.689996</td>\n",
       "      <td>158.51</td>\n",
       "    </tr>\n",
       "    <tr>\n",
       "      <th>3</th>\n",
       "      <td>94e5ea5a8c1bf546db2739673060c43f</td>\n",
       "      <td>2</td>\n",
       "      <td>580 days 16:38:23</td>\n",
       "      <td>1361 days 21:19:43.639546</td>\n",
       "      <td>187.17</td>\n",
       "    </tr>\n",
       "    <tr>\n",
       "      <th>4</th>\n",
       "      <td>87b3f231705783eb2217e25851c0a45d</td>\n",
       "      <td>2</td>\n",
       "      <td>572 days 16:29:03</td>\n",
       "      <td>1366 days 23:54:25.631759</td>\n",
       "      <td>523.12</td>\n",
       "    </tr>\n",
       "    <tr>\n",
       "      <th>...</th>\n",
       "      <td>...</td>\n",
       "      <td>...</td>\n",
       "      <td>...</td>\n",
       "      <td>...</td>\n",
       "      <td>...</td>\n",
       "    </tr>\n",
       "    <tr>\n",
       "      <th>95415</th>\n",
       "      <td>42c8ccbe558d063718d19cff01505af9</td>\n",
       "      <td>1</td>\n",
       "      <td>1 days 00:00:00</td>\n",
       "      <td>1673 days 11:51:04.581086</td>\n",
       "      <td>259.96</td>\n",
       "    </tr>\n",
       "    <tr>\n",
       "      <th>95416</th>\n",
       "      <td>42c837a3d7df8cfa87de63fbc1aade2f</td>\n",
       "      <td>1</td>\n",
       "      <td>1 days 00:00:00</td>\n",
       "      <td>1285 days 21:44:56.581085</td>\n",
       "      <td>98.90</td>\n",
       "    </tr>\n",
       "    <tr>\n",
       "      <th>95417</th>\n",
       "      <td>42c7e57c48d38fc34ed69508a092abcd</td>\n",
       "      <td>1</td>\n",
       "      <td>1 days 00:00:00</td>\n",
       "      <td>1325 days 01:48:41.581082</td>\n",
       "      <td>138.46</td>\n",
       "    </tr>\n",
       "    <tr>\n",
       "      <th>95418</th>\n",
       "      <td>42f3aebe1309a0f58863f1ec28898969</td>\n",
       "      <td>1</td>\n",
       "      <td>1 days 00:00:00</td>\n",
       "      <td>1299 days 02:55:31.581184</td>\n",
       "      <td>42.53</td>\n",
       "    </tr>\n",
       "    <tr>\n",
       "      <th>95419</th>\n",
       "      <td>ffffd2657e2aad2907e67c3e9daecbeb</td>\n",
       "      <td>1</td>\n",
       "      <td>1 days 00:00:00</td>\n",
       "      <td>1733 days 14:50:17.711613</td>\n",
       "      <td>71.56</td>\n",
       "    </tr>\n",
       "  </tbody>\n",
       "</table>\n",
       "<p>95420 rows × 5 columns</p>\n",
       "</div>"
      ],
      "text/plain": [
       "                                cliente  quantia_comprada          retencao  \\\n",
       "0      32ea3bdedab835c3aa6cb68ce66565ef                 3 633 days 02:01:14   \n",
       "1      ccafc1c3f270410521c3c6f3b249870f                 2 608 days 23:29:38   \n",
       "2      d8f3c4f441a9b59a29f977df16724f38                 2 582 days 20:44:41   \n",
       "3      94e5ea5a8c1bf546db2739673060c43f                 2 580 days 16:38:23   \n",
       "4      87b3f231705783eb2217e25851c0a45d                 2 572 days 16:29:03   \n",
       "...                                 ...               ...               ...   \n",
       "95415  42c8ccbe558d063718d19cff01505af9                 1   1 days 00:00:00   \n",
       "95416  42c837a3d7df8cfa87de63fbc1aade2f                 1   1 days 00:00:00   \n",
       "95417  42c7e57c48d38fc34ed69508a092abcd                 1   1 days 00:00:00   \n",
       "95418  42f3aebe1309a0f58863f1ec28898969                 1   1 days 00:00:00   \n",
       "95419  ffffd2657e2aad2907e67c3e9daecbeb                 1   1 days 00:00:00   \n",
       "\n",
       "                       recencia  receita_total_por_cliente  \n",
       "0     1311 days 23:22:58.570812                     137.16  \n",
       "1     1332 days 16:05:50.679461                     207.51  \n",
       "2     1254 days 17:16:03.689996                     158.51  \n",
       "3     1361 days 21:19:43.639546                     187.17  \n",
       "4     1366 days 23:54:25.631759                     523.12  \n",
       "...                         ...                        ...  \n",
       "95415 1673 days 11:51:04.581086                     259.96  \n",
       "95416 1285 days 21:44:56.581085                      98.90  \n",
       "95417 1325 days 01:48:41.581082                     138.46  \n",
       "95418 1299 days 02:55:31.581184                      42.53  \n",
       "95419 1733 days 14:50:17.711613                      71.56  \n",
       "\n",
       "[95420 rows x 5 columns]"
      ]
     },
     "execution_count": 15,
     "metadata": {},
     "output_type": "execute_result"
    }
   ],
   "source": [
    "Cliente"
   ]
  },
  {
   "cell_type": "code",
   "execution_count": 16,
   "id": "9f45f8fd",
   "metadata": {
    "colab": {
     "base_uri": "https://localhost:8080/",
     "height": 424
    },
    "id": "9f45f8fd",
    "outputId": "0e02af2f-e4d9-47f6-d885-a00fe936da3d"
   },
   "outputs": [],
   "source": [
    "Cliente['receita_media_por_quantia'] = Cliente['receita_total_por_cliente']/Cliente['quantia_comprada']\n",
    "Cliente['receita_media_por_dia'] = Cliente['receita_total_por_cliente']/Cliente['retencao'].dt.days\n",
    "Cliente.drop(columns='receita_total_por_cliente', inplace=True)\n",
    "Cliente['retencao'] = Cliente.retencao.dt.days\n",
    "Cliente['recencia'] = Cliente.recencia.dt.days"
   ]
  },
  {
   "cell_type": "code",
   "execution_count": 17,
   "id": "ae7bff70",
   "metadata": {},
   "outputs": [
    {
     "data": {
      "text/html": [
       "<div>\n",
       "<style scoped>\n",
       "    .dataframe tbody tr th:only-of-type {\n",
       "        vertical-align: middle;\n",
       "    }\n",
       "\n",
       "    .dataframe tbody tr th {\n",
       "        vertical-align: top;\n",
       "    }\n",
       "\n",
       "    .dataframe thead th {\n",
       "        text-align: right;\n",
       "    }\n",
       "</style>\n",
       "<table border=\"1\" class=\"dataframe\">\n",
       "  <thead>\n",
       "    <tr style=\"text-align: right;\">\n",
       "      <th></th>\n",
       "      <th>cliente</th>\n",
       "      <th>quantia_comprada</th>\n",
       "      <th>retencao</th>\n",
       "      <th>recencia</th>\n",
       "      <th>receita_media_por_quantia</th>\n",
       "      <th>receita_media_por_dia</th>\n",
       "    </tr>\n",
       "  </thead>\n",
       "  <tbody>\n",
       "    <tr>\n",
       "      <th>0</th>\n",
       "      <td>32ea3bdedab835c3aa6cb68ce66565ef</td>\n",
       "      <td>3</td>\n",
       "      <td>633</td>\n",
       "      <td>1311</td>\n",
       "      <td>45.720</td>\n",
       "      <td>0.216682</td>\n",
       "    </tr>\n",
       "    <tr>\n",
       "      <th>1</th>\n",
       "      <td>ccafc1c3f270410521c3c6f3b249870f</td>\n",
       "      <td>2</td>\n",
       "      <td>608</td>\n",
       "      <td>1332</td>\n",
       "      <td>103.755</td>\n",
       "      <td>0.341299</td>\n",
       "    </tr>\n",
       "    <tr>\n",
       "      <th>2</th>\n",
       "      <td>d8f3c4f441a9b59a29f977df16724f38</td>\n",
       "      <td>2</td>\n",
       "      <td>582</td>\n",
       "      <td>1254</td>\n",
       "      <td>79.255</td>\n",
       "      <td>0.272354</td>\n",
       "    </tr>\n",
       "    <tr>\n",
       "      <th>3</th>\n",
       "      <td>94e5ea5a8c1bf546db2739673060c43f</td>\n",
       "      <td>2</td>\n",
       "      <td>580</td>\n",
       "      <td>1361</td>\n",
       "      <td>93.585</td>\n",
       "      <td>0.322707</td>\n",
       "    </tr>\n",
       "    <tr>\n",
       "      <th>4</th>\n",
       "      <td>87b3f231705783eb2217e25851c0a45d</td>\n",
       "      <td>2</td>\n",
       "      <td>572</td>\n",
       "      <td>1366</td>\n",
       "      <td>261.560</td>\n",
       "      <td>0.914545</td>\n",
       "    </tr>\n",
       "    <tr>\n",
       "      <th>...</th>\n",
       "      <td>...</td>\n",
       "      <td>...</td>\n",
       "      <td>...</td>\n",
       "      <td>...</td>\n",
       "      <td>...</td>\n",
       "      <td>...</td>\n",
       "    </tr>\n",
       "    <tr>\n",
       "      <th>95415</th>\n",
       "      <td>42c8ccbe558d063718d19cff01505af9</td>\n",
       "      <td>1</td>\n",
       "      <td>1</td>\n",
       "      <td>1673</td>\n",
       "      <td>259.960</td>\n",
       "      <td>259.960000</td>\n",
       "    </tr>\n",
       "    <tr>\n",
       "      <th>95416</th>\n",
       "      <td>42c837a3d7df8cfa87de63fbc1aade2f</td>\n",
       "      <td>1</td>\n",
       "      <td>1</td>\n",
       "      <td>1285</td>\n",
       "      <td>98.900</td>\n",
       "      <td>98.900000</td>\n",
       "    </tr>\n",
       "    <tr>\n",
       "      <th>95417</th>\n",
       "      <td>42c7e57c48d38fc34ed69508a092abcd</td>\n",
       "      <td>1</td>\n",
       "      <td>1</td>\n",
       "      <td>1325</td>\n",
       "      <td>138.460</td>\n",
       "      <td>138.460000</td>\n",
       "    </tr>\n",
       "    <tr>\n",
       "      <th>95418</th>\n",
       "      <td>42f3aebe1309a0f58863f1ec28898969</td>\n",
       "      <td>1</td>\n",
       "      <td>1</td>\n",
       "      <td>1299</td>\n",
       "      <td>42.530</td>\n",
       "      <td>42.530000</td>\n",
       "    </tr>\n",
       "    <tr>\n",
       "      <th>95419</th>\n",
       "      <td>ffffd2657e2aad2907e67c3e9daecbeb</td>\n",
       "      <td>1</td>\n",
       "      <td>1</td>\n",
       "      <td>1733</td>\n",
       "      <td>71.560</td>\n",
       "      <td>71.560000</td>\n",
       "    </tr>\n",
       "  </tbody>\n",
       "</table>\n",
       "<p>95420 rows × 6 columns</p>\n",
       "</div>"
      ],
      "text/plain": [
       "                                cliente  quantia_comprada  retencao  recencia  \\\n",
       "0      32ea3bdedab835c3aa6cb68ce66565ef                 3       633      1311   \n",
       "1      ccafc1c3f270410521c3c6f3b249870f                 2       608      1332   \n",
       "2      d8f3c4f441a9b59a29f977df16724f38                 2       582      1254   \n",
       "3      94e5ea5a8c1bf546db2739673060c43f                 2       580      1361   \n",
       "4      87b3f231705783eb2217e25851c0a45d                 2       572      1366   \n",
       "...                                 ...               ...       ...       ...   \n",
       "95415  42c8ccbe558d063718d19cff01505af9                 1         1      1673   \n",
       "95416  42c837a3d7df8cfa87de63fbc1aade2f                 1         1      1285   \n",
       "95417  42c7e57c48d38fc34ed69508a092abcd                 1         1      1325   \n",
       "95418  42f3aebe1309a0f58863f1ec28898969                 1         1      1299   \n",
       "95419  ffffd2657e2aad2907e67c3e9daecbeb                 1         1      1733   \n",
       "\n",
       "       receita_media_por_quantia  receita_media_por_dia  \n",
       "0                         45.720               0.216682  \n",
       "1                        103.755               0.341299  \n",
       "2                         79.255               0.272354  \n",
       "3                         93.585               0.322707  \n",
       "4                        261.560               0.914545  \n",
       "...                          ...                    ...  \n",
       "95415                    259.960             259.960000  \n",
       "95416                     98.900              98.900000  \n",
       "95417                    138.460             138.460000  \n",
       "95418                     42.530              42.530000  \n",
       "95419                     71.560              71.560000  \n",
       "\n",
       "[95420 rows x 6 columns]"
      ]
     },
     "execution_count": 17,
     "metadata": {},
     "output_type": "execute_result"
    }
   ],
   "source": [
    "Cliente"
   ]
  },
  {
   "cell_type": "markdown",
   "id": "77db0d9e",
   "metadata": {},
   "source": [
    "## ETAPA 2:"
   ]
  },
  {
   "cell_type": "code",
   "execution_count": 18,
   "id": "7c5f9b85",
   "metadata": {
    "id": "7c5f9b85"
   },
   "outputs": [],
   "source": [
    "from sklearn.preprocessing import MinMaxScaler\n",
    "from sklearn.cluster import KMeans, AgglomerativeClustering\n",
    "from sklearn.decomposition import PCA\n",
    "from sklearn.ensemble import RandomForestClassifier\n",
    "from sklearn.model_selection import train_test_split\n",
    "from sklearn.metrics import classification_report\n",
    "from imblearn.under_sampling import NearMiss\n",
    "import matplotlib.pyplot as plt\n",
    "import seaborn as sns"
   ]
  },
  {
   "cell_type": "code",
   "execution_count": 19,
   "id": "a0ef0787",
   "metadata": {
    "id": "996bc6c9"
   },
   "outputs": [],
   "source": [
    "X = Cliente.drop(columns='cliente')"
   ]
  },
  {
   "cell_type": "code",
   "execution_count": 20,
   "id": "f1988064",
   "metadata": {
    "colab": {
     "base_uri": "https://localhost:8080/",
     "height": 424
    },
    "id": "f1988064",
    "outputId": "b1f63ae4-ac9a-4a98-95d5-1dfc414715cb"
   },
   "outputs": [],
   "source": [
    "X.drop('receita_media_por_dia', axis=1, inplace=True)"
   ]
  },
  {
   "cell_type": "code",
   "execution_count": 70,
   "id": "08d40581",
   "metadata": {},
   "outputs": [
    {
     "data": {
      "text/html": [
       "<div>\n",
       "<style scoped>\n",
       "    .dataframe tbody tr th:only-of-type {\n",
       "        vertical-align: middle;\n",
       "    }\n",
       "\n",
       "    .dataframe tbody tr th {\n",
       "        vertical-align: top;\n",
       "    }\n",
       "\n",
       "    .dataframe thead th {\n",
       "        text-align: right;\n",
       "    }\n",
       "</style>\n",
       "<table border=\"1\" class=\"dataframe\">\n",
       "  <thead>\n",
       "    <tr style=\"text-align: right;\">\n",
       "      <th></th>\n",
       "      <th>quantia_comprada</th>\n",
       "      <th>retencao</th>\n",
       "      <th>recencia</th>\n",
       "      <th>receita_media_por_quantia</th>\n",
       "    </tr>\n",
       "  </thead>\n",
       "  <tbody>\n",
       "    <tr>\n",
       "      <th>0</th>\n",
       "      <td>0.133333</td>\n",
       "      <td>1.000000</td>\n",
       "      <td>0.090659</td>\n",
       "      <td>0.002646</td>\n",
       "    </tr>\n",
       "    <tr>\n",
       "      <th>1</th>\n",
       "      <td>0.066667</td>\n",
       "      <td>0.960443</td>\n",
       "      <td>0.119505</td>\n",
       "      <td>0.006896</td>\n",
       "    </tr>\n",
       "    <tr>\n",
       "      <th>2</th>\n",
       "      <td>0.066667</td>\n",
       "      <td>0.919304</td>\n",
       "      <td>0.012363</td>\n",
       "      <td>0.005102</td>\n",
       "    </tr>\n",
       "    <tr>\n",
       "      <th>3</th>\n",
       "      <td>0.066667</td>\n",
       "      <td>0.916139</td>\n",
       "      <td>0.159341</td>\n",
       "      <td>0.006151</td>\n",
       "    </tr>\n",
       "    <tr>\n",
       "      <th>4</th>\n",
       "      <td>0.066667</td>\n",
       "      <td>0.903481</td>\n",
       "      <td>0.166209</td>\n",
       "      <td>0.018453</td>\n",
       "    </tr>\n",
       "    <tr>\n",
       "      <th>...</th>\n",
       "      <td>...</td>\n",
       "      <td>...</td>\n",
       "      <td>...</td>\n",
       "      <td>...</td>\n",
       "    </tr>\n",
       "    <tr>\n",
       "      <th>95415</th>\n",
       "      <td>0.000000</td>\n",
       "      <td>0.000000</td>\n",
       "      <td>0.587912</td>\n",
       "      <td>0.018336</td>\n",
       "    </tr>\n",
       "    <tr>\n",
       "      <th>95416</th>\n",
       "      <td>0.000000</td>\n",
       "      <td>0.000000</td>\n",
       "      <td>0.054945</td>\n",
       "      <td>0.006541</td>\n",
       "    </tr>\n",
       "    <tr>\n",
       "      <th>95417</th>\n",
       "      <td>0.000000</td>\n",
       "      <td>0.000000</td>\n",
       "      <td>0.109890</td>\n",
       "      <td>0.009438</td>\n",
       "    </tr>\n",
       "    <tr>\n",
       "      <th>95418</th>\n",
       "      <td>0.000000</td>\n",
       "      <td>0.000000</td>\n",
       "      <td>0.074176</td>\n",
       "      <td>0.002412</td>\n",
       "    </tr>\n",
       "    <tr>\n",
       "      <th>95419</th>\n",
       "      <td>0.000000</td>\n",
       "      <td>0.000000</td>\n",
       "      <td>0.670330</td>\n",
       "      <td>0.004538</td>\n",
       "    </tr>\n",
       "  </tbody>\n",
       "</table>\n",
       "<p>95420 rows × 4 columns</p>\n",
       "</div>"
      ],
      "text/plain": [
       "       quantia_comprada  retencao  recencia  receita_media_por_quantia\n",
       "0              0.133333  1.000000  0.090659                   0.002646\n",
       "1              0.066667  0.960443  0.119505                   0.006896\n",
       "2              0.066667  0.919304  0.012363                   0.005102\n",
       "3              0.066667  0.916139  0.159341                   0.006151\n",
       "4              0.066667  0.903481  0.166209                   0.018453\n",
       "...                 ...       ...       ...                        ...\n",
       "95415          0.000000  0.000000  0.587912                   0.018336\n",
       "95416          0.000000  0.000000  0.054945                   0.006541\n",
       "95417          0.000000  0.000000  0.109890                   0.009438\n",
       "95418          0.000000  0.000000  0.074176                   0.002412\n",
       "95419          0.000000  0.000000  0.670330                   0.004538\n",
       "\n",
       "[95420 rows x 4 columns]"
      ]
     },
     "execution_count": 70,
     "metadata": {},
     "output_type": "execute_result"
    }
   ],
   "source": [
    "scaled_data"
   ]
  },
  {
   "cell_type": "code",
   "execution_count": 21,
   "id": "17d74390",
   "metadata": {
    "colab": {
     "base_uri": "https://localhost:8080/",
     "height": 424
    },
    "id": "17d74390",
    "outputId": "073d40f6-7160-4b86-facf-0abee00eb720"
   },
   "outputs": [
    {
     "data": {
      "text/html": [
       "<div>\n",
       "<style scoped>\n",
       "    .dataframe tbody tr th:only-of-type {\n",
       "        vertical-align: middle;\n",
       "    }\n",
       "\n",
       "    .dataframe tbody tr th {\n",
       "        vertical-align: top;\n",
       "    }\n",
       "\n",
       "    .dataframe thead th {\n",
       "        text-align: right;\n",
       "    }\n",
       "</style>\n",
       "<table border=\"1\" class=\"dataframe\">\n",
       "  <thead>\n",
       "    <tr style=\"text-align: right;\">\n",
       "      <th></th>\n",
       "      <th>quantia_comprada</th>\n",
       "      <th>retencao</th>\n",
       "      <th>recencia</th>\n",
       "      <th>receita_media_por_quantia</th>\n",
       "    </tr>\n",
       "  </thead>\n",
       "  <tbody>\n",
       "    <tr>\n",
       "      <th>64678</th>\n",
       "      <td>0.0</td>\n",
       "      <td>0.0</td>\n",
       "      <td>0.464286</td>\n",
       "      <td>1.000000</td>\n",
       "    </tr>\n",
       "    <tr>\n",
       "      <th>64635</th>\n",
       "      <td>0.0</td>\n",
       "      <td>0.0</td>\n",
       "      <td>0.067308</td>\n",
       "      <td>0.532081</td>\n",
       "    </tr>\n",
       "    <tr>\n",
       "      <th>29905</th>\n",
       "      <td>0.0</td>\n",
       "      <td>0.0</td>\n",
       "      <td>0.778846</td>\n",
       "      <td>0.506772</td>\n",
       "    </tr>\n",
       "    <tr>\n",
       "      <th>90633</th>\n",
       "      <td>0.0</td>\n",
       "      <td>0.0</td>\n",
       "      <td>0.053571</td>\n",
       "      <td>0.506253</td>\n",
       "    </tr>\n",
       "    <tr>\n",
       "      <th>33952</th>\n",
       "      <td>0.0</td>\n",
       "      <td>0.0</td>\n",
       "      <td>0.640110</td>\n",
       "      <td>0.491931</td>\n",
       "    </tr>\n",
       "    <tr>\n",
       "      <th>...</th>\n",
       "      <td>...</td>\n",
       "      <td>...</td>\n",
       "      <td>...</td>\n",
       "      <td>...</td>\n",
       "    </tr>\n",
       "    <tr>\n",
       "      <th>57751</th>\n",
       "      <td>0.0</td>\n",
       "      <td>0.0</td>\n",
       "      <td>0.423077</td>\n",
       "      <td>0.000149</td>\n",
       "    </tr>\n",
       "    <tr>\n",
       "      <th>80715</th>\n",
       "      <td>0.0</td>\n",
       "      <td>0.0</td>\n",
       "      <td>0.501374</td>\n",
       "      <td>0.000149</td>\n",
       "    </tr>\n",
       "    <tr>\n",
       "      <th>9311</th>\n",
       "      <td>0.0</td>\n",
       "      <td>0.0</td>\n",
       "      <td>0.100275</td>\n",
       "      <td>0.000095</td>\n",
       "    </tr>\n",
       "    <tr>\n",
       "      <th>40985</th>\n",
       "      <td>0.0</td>\n",
       "      <td>0.0</td>\n",
       "      <td>0.486264</td>\n",
       "      <td>0.000035</td>\n",
       "    </tr>\n",
       "    <tr>\n",
       "      <th>89393</th>\n",
       "      <td>0.0</td>\n",
       "      <td>0.0</td>\n",
       "      <td>0.010989</td>\n",
       "      <td>0.000000</td>\n",
       "    </tr>\n",
       "  </tbody>\n",
       "</table>\n",
       "<p>95420 rows × 4 columns</p>\n",
       "</div>"
      ],
      "text/plain": [
       "       quantia_comprada  retencao  recencia  receita_media_por_quantia\n",
       "64678               0.0       0.0  0.464286                   1.000000\n",
       "64635               0.0       0.0  0.067308                   0.532081\n",
       "29905               0.0       0.0  0.778846                   0.506772\n",
       "90633               0.0       0.0  0.053571                   0.506253\n",
       "33952               0.0       0.0  0.640110                   0.491931\n",
       "...                 ...       ...       ...                        ...\n",
       "57751               0.0       0.0  0.423077                   0.000149\n",
       "80715               0.0       0.0  0.501374                   0.000149\n",
       "9311                0.0       0.0  0.100275                   0.000095\n",
       "40985               0.0       0.0  0.486264                   0.000035\n",
       "89393               0.0       0.0  0.010989                   0.000000\n",
       "\n",
       "[95420 rows x 4 columns]"
      ]
     },
     "execution_count": 21,
     "metadata": {},
     "output_type": "execute_result"
    }
   ],
   "source": [
    "scaler = MinMaxScaler()\n",
    "scaled_data = scaler.fit_transform(X)\n",
    "scaled_data = pd.DataFrame(scaled_data)\n",
    "scaled_data.columns = X.columns\n",
    "scaled_data.sort_values('receita_media_por_quantia', ascending=False)"
   ]
  },
  {
   "cell_type": "code",
   "execution_count": 22,
   "id": "538116b8",
   "metadata": {},
   "outputs": [],
   "source": [
    "palette = ['#e41a1c', '#377eb8', '#4daf4a']"
   ]
  },
  {
   "cell_type": "code",
   "execution_count": 23,
   "id": "66c85ff1",
   "metadata": {
    "colab": {
     "base_uri": "https://localhost:8080/"
    },
    "id": "66c85ff1",
    "outputId": "c74c9133-43bb-4bbe-86cb-40b14efe8b0d"
   },
   "outputs": [],
   "source": [
    "km = KMeans(n_clusters=3, random_state=0).fit(scaled_data)"
   ]
  },
  {
   "cell_type": "code",
   "execution_count": 69,
   "id": "93910e25",
   "metadata": {
    "scrolled": true
   },
   "outputs": [
    {
     "data": {
      "text/html": [
       "<div>\n",
       "<style scoped>\n",
       "    .dataframe tbody tr th:only-of-type {\n",
       "        vertical-align: middle;\n",
       "    }\n",
       "\n",
       "    .dataframe tbody tr th {\n",
       "        vertical-align: top;\n",
       "    }\n",
       "\n",
       "    .dataframe thead th {\n",
       "        text-align: right;\n",
       "    }\n",
       "</style>\n",
       "<table border=\"1\" class=\"dataframe\">\n",
       "  <thead>\n",
       "    <tr style=\"text-align: right;\">\n",
       "      <th></th>\n",
       "      <th>cliente</th>\n",
       "      <th>quantia_comprada</th>\n",
       "      <th>retencao</th>\n",
       "      <th>recencia</th>\n",
       "      <th>receita_media_por_quantia</th>\n",
       "      <th>grupo</th>\n",
       "    </tr>\n",
       "  </thead>\n",
       "  <tbody>\n",
       "    <tr>\n",
       "      <th>0</th>\n",
       "      <td>32ea3bdedab835c3aa6cb68ce66565ef</td>\n",
       "      <td>0.133333</td>\n",
       "      <td>1.000000</td>\n",
       "      <td>0.090659</td>\n",
       "      <td>0.002646</td>\n",
       "      <td>2</td>\n",
       "    </tr>\n",
       "    <tr>\n",
       "      <th>1</th>\n",
       "      <td>ccafc1c3f270410521c3c6f3b249870f</td>\n",
       "      <td>0.066667</td>\n",
       "      <td>0.960443</td>\n",
       "      <td>0.119505</td>\n",
       "      <td>0.006896</td>\n",
       "      <td>2</td>\n",
       "    </tr>\n",
       "    <tr>\n",
       "      <th>2</th>\n",
       "      <td>d8f3c4f441a9b59a29f977df16724f38</td>\n",
       "      <td>0.066667</td>\n",
       "      <td>0.919304</td>\n",
       "      <td>0.012363</td>\n",
       "      <td>0.005102</td>\n",
       "      <td>2</td>\n",
       "    </tr>\n",
       "    <tr>\n",
       "      <th>3</th>\n",
       "      <td>94e5ea5a8c1bf546db2739673060c43f</td>\n",
       "      <td>0.066667</td>\n",
       "      <td>0.916139</td>\n",
       "      <td>0.159341</td>\n",
       "      <td>0.006151</td>\n",
       "      <td>2</td>\n",
       "    </tr>\n",
       "    <tr>\n",
       "      <th>4</th>\n",
       "      <td>87b3f231705783eb2217e25851c0a45d</td>\n",
       "      <td>0.066667</td>\n",
       "      <td>0.903481</td>\n",
       "      <td>0.166209</td>\n",
       "      <td>0.018453</td>\n",
       "      <td>2</td>\n",
       "    </tr>\n",
       "    <tr>\n",
       "      <th>...</th>\n",
       "      <td>...</td>\n",
       "      <td>...</td>\n",
       "      <td>...</td>\n",
       "      <td>...</td>\n",
       "      <td>...</td>\n",
       "      <td>...</td>\n",
       "    </tr>\n",
       "    <tr>\n",
       "      <th>95415</th>\n",
       "      <td>42c8ccbe558d063718d19cff01505af9</td>\n",
       "      <td>0.000000</td>\n",
       "      <td>0.000000</td>\n",
       "      <td>0.587912</td>\n",
       "      <td>0.018336</td>\n",
       "      <td>1</td>\n",
       "    </tr>\n",
       "    <tr>\n",
       "      <th>95416</th>\n",
       "      <td>42c837a3d7df8cfa87de63fbc1aade2f</td>\n",
       "      <td>0.000000</td>\n",
       "      <td>0.000000</td>\n",
       "      <td>0.054945</td>\n",
       "      <td>0.006541</td>\n",
       "      <td>2</td>\n",
       "    </tr>\n",
       "    <tr>\n",
       "      <th>95417</th>\n",
       "      <td>42c7e57c48d38fc34ed69508a092abcd</td>\n",
       "      <td>0.000000</td>\n",
       "      <td>0.000000</td>\n",
       "      <td>0.109890</td>\n",
       "      <td>0.009438</td>\n",
       "      <td>2</td>\n",
       "    </tr>\n",
       "    <tr>\n",
       "      <th>95418</th>\n",
       "      <td>42f3aebe1309a0f58863f1ec28898969</td>\n",
       "      <td>0.000000</td>\n",
       "      <td>0.000000</td>\n",
       "      <td>0.074176</td>\n",
       "      <td>0.002412</td>\n",
       "      <td>2</td>\n",
       "    </tr>\n",
       "    <tr>\n",
       "      <th>95419</th>\n",
       "      <td>ffffd2657e2aad2907e67c3e9daecbeb</td>\n",
       "      <td>0.000000</td>\n",
       "      <td>0.000000</td>\n",
       "      <td>0.670330</td>\n",
       "      <td>0.004538</td>\n",
       "      <td>1</td>\n",
       "    </tr>\n",
       "  </tbody>\n",
       "</table>\n",
       "<p>95420 rows × 6 columns</p>\n",
       "</div>"
      ],
      "text/plain": [
       "                                cliente  quantia_comprada  retencao  recencia  \\\n",
       "0      32ea3bdedab835c3aa6cb68ce66565ef          0.133333  1.000000  0.090659   \n",
       "1      ccafc1c3f270410521c3c6f3b249870f          0.066667  0.960443  0.119505   \n",
       "2      d8f3c4f441a9b59a29f977df16724f38          0.066667  0.919304  0.012363   \n",
       "3      94e5ea5a8c1bf546db2739673060c43f          0.066667  0.916139  0.159341   \n",
       "4      87b3f231705783eb2217e25851c0a45d          0.066667  0.903481  0.166209   \n",
       "...                                 ...               ...       ...       ...   \n",
       "95415  42c8ccbe558d063718d19cff01505af9          0.000000  0.000000  0.587912   \n",
       "95416  42c837a3d7df8cfa87de63fbc1aade2f          0.000000  0.000000  0.054945   \n",
       "95417  42c7e57c48d38fc34ed69508a092abcd          0.000000  0.000000  0.109890   \n",
       "95418  42f3aebe1309a0f58863f1ec28898969          0.000000  0.000000  0.074176   \n",
       "95419  ffffd2657e2aad2907e67c3e9daecbeb          0.000000  0.000000  0.670330   \n",
       "\n",
       "       receita_media_por_quantia  grupo  \n",
       "0                       0.002646      2  \n",
       "1                       0.006896      2  \n",
       "2                       0.005102      2  \n",
       "3                       0.006151      2  \n",
       "4                       0.018453      2  \n",
       "...                          ...    ...  \n",
       "95415                   0.018336      1  \n",
       "95416                   0.006541      2  \n",
       "95417                   0.009438      2  \n",
       "95418                   0.002412      2  \n",
       "95419                   0.004538      1  \n",
       "\n",
       "[95420 rows x 6 columns]"
      ]
     },
     "execution_count": 69,
     "metadata": {},
     "output_type": "execute_result"
    }
   ],
   "source": [
    "clustered"
   ]
  },
  {
   "cell_type": "code",
   "execution_count": 24,
   "id": "a49ee938",
   "metadata": {},
   "outputs": [],
   "source": [
    "clustered = pd.concat([Cliente['cliente'], scaled_data, pd.Series(km.predict(scaled_data))], axis=1, ignore_index=True)\n",
    "cols = ['cliente', 'quantia_comprada', 'retencao', 'recencia', 'receita_media_por_quantia', 'grupo']\n",
    "clustered.columns = cols"
   ]
  },
  {
   "cell_type": "code",
   "execution_count": 25,
   "id": "089091c9",
   "metadata": {
    "colab": {
     "base_uri": "https://localhost:8080/"
    },
    "id": "089091c9",
    "outputId": "ce610eda-ea45-4967-ea4b-2e227f272dd8"
   },
   "outputs": [],
   "source": [
    "pca2 = PCA(n_components=2, random_state=0)\n",
    "pca2 = pca2.fit_transform(scaled_data)\n",
    "\n",
    "p2 = pd.DataFrame(pca2)\n",
    "\n",
    "km2 = KMeans(n_clusters=3, random_state=0).fit(p2)"
   ]
  },
  {
   "cell_type": "code",
   "execution_count": 26,
   "id": "069bcb81",
   "metadata": {
    "id": "069bcb81"
   },
   "outputs": [],
   "source": [
    "clustered2 = pd.concat([Cliente['cliente'], p2, pd.Series(km2.predict(p2))], axis=1, ignore_index=True)\n",
    "cols = ['cliente', 'var_1', 'var_2', 'grupo']\n",
    "clustered2.columns = cols"
   ]
  },
  {
   "cell_type": "markdown",
   "id": "97e0bf43",
   "metadata": {
    "id": "97e0bf43"
   },
   "source": [
    "### PCA com 3"
   ]
  },
  {
   "cell_type": "code",
   "execution_count": 27,
   "id": "cb9374b9",
   "metadata": {
    "colab": {
     "base_uri": "https://localhost:8080/"
    },
    "id": "cb9374b9",
    "outputId": "29ee8a0a-af7a-4a4c-ebfd-34496a3d2865"
   },
   "outputs": [],
   "source": [
    "pca3 = PCA(n_components=3, random_state=0)\n",
    "pca3 = pca3.fit_transform(scaled_data)\n",
    "\n",
    "p3 = pd.DataFrame(pca3)\n",
    "\n",
    "km3 = KMeans(n_clusters=3, random_state=0).fit(p3)"
   ]
  },
  {
   "cell_type": "code",
   "execution_count": 28,
   "id": "782805b0",
   "metadata": {
    "colab": {
     "base_uri": "https://localhost:8080/",
     "height": 363
    },
    "id": "143cac5c",
    "outputId": "8137ec33-f51b-47c3-e37a-29f10bdc4297"
   },
   "outputs": [],
   "source": [
    "clustered3 = pd.concat([Cliente['cliente'], p3, pd.Series(km3.predict(p3))], axis=1, ignore_index=True)\n",
    "cols = ['cliente', 'var_1', 'var_2', 'var_3', 'grupo']\n",
    "clustered3.columns = cols"
   ]
  },
  {
   "cell_type": "code",
   "execution_count": 29,
   "id": "e996f18d",
   "metadata": {},
   "outputs": [],
   "source": [
    "i = tuple(range(2,14))\n",
    "k_elbow1 = [KMeans(n_clusters=clust, random_state=0).fit(scaled_data).inertia_ for clust in i]\n",
    "k_elbow2 = [KMeans(n_clusters=clust, random_state=0).fit(p2).inertia_ for clust in i]\n",
    "k_elbow3 = [KMeans(n_clusters=clust, random_state=0).fit(p3).inertia_ for clust in i]"
   ]
  },
  {
   "cell_type": "markdown",
   "id": "ad0617dc",
   "metadata": {},
   "source": [
    "## AGGLOMERATIVE CLUSTERING"
   ]
  },
  {
   "cell_type": "code",
   "execution_count": 112,
   "id": "a81d1d9b",
   "metadata": {
    "id": "fpM1jx-Fr_hX"
   },
   "outputs": [],
   "source": [
    "np.random.seed(0)\n",
    "sample = scaled_data.sample(100)"
   ]
  },
  {
   "cell_type": "code",
   "execution_count": 75,
   "id": "186d6604",
   "metadata": {},
   "outputs": [],
   "source": [
    "# data, result, model = model_agg(scaled_data, 'ward')\n",
    "\n",
    "model = AgglomerativeClustering(n_clusters=3, linkage='ward')\n",
    "result = model.fit(sample)\n",
    "\n",
    "result = pd.Series(result.labels_)\n",
    "final = pd.concat([sample, result], axis=1)\n",
    "final.columns = list(X.columns) + ['grupo']"
   ]
  },
  {
   "cell_type": "code",
   "execution_count": 33,
   "id": "4cf6c78f",
   "metadata": {},
   "outputs": [],
   "source": [
    "# data, result, model1 = model_agg(scaled_data, 'complete', metric='euclidean')\n",
    "\n",
    "model = AgglomerativeClustering(n_clusters=3, linkage='complete', affinity='euclidean')\n",
    "result2 = model.fit(sample)\n",
    "\n",
    "result = pd.Series(result.labels_)\n",
    "final2 = pd.concat([sample, result], axis=1)\n",
    "final2.columns = list(X.columns) + ['grupo']"
   ]
  },
  {
   "cell_type": "code",
   "execution_count": 34,
   "id": "4c26098b",
   "metadata": {},
   "outputs": [],
   "source": [
    "# data, result, model2 = model_agg(scaled_data, 'complete', metric='cosine')\n",
    "\n",
    "model = AgglomerativeClustering(n_clusters=3, linkage='complete', affinity='cosine')\n",
    "result3 = model.fit(sample)\n",
    "\n",
    "result = pd.Series(result.labels_)\n",
    "final3 = pd.concat([sample, result], axis=1)\n",
    "final3.columns = list(X.columns) + ['grupo']"
   ]
  },
  {
   "cell_type": "code",
   "execution_count": 53,
   "id": "6b096eb3",
   "metadata": {},
   "outputs": [
    {
     "data": {
      "text/plain": [
       "RandomForestClassifier(max_depth=3, n_jobs=-1, random_state=0)"
      ]
     },
     "execution_count": 53,
     "metadata": {},
     "output_type": "execute_result"
    }
   ],
   "source": [
    "step = pd.concat([pd.Series(sample.index), final.grupo], ignore_index=True, axis=1).set_index(0)\n",
    "rfr = RandomForestClassifier(n_jobs=-1, random_state=0, max_depth=3)\n",
    "\n",
    "xtrain, xtest, ytrain, ytest = train_test_split(final.drop(columns='grupo'), final['grupo'], test_size=0.35, random_state=0, stratify=final['grupo'])\n",
    "rfr.fit(xtrain, ytrain)"
   ]
  },
  {
   "cell_type": "code",
   "execution_count": 55,
   "id": "b55462e9",
   "metadata": {},
   "outputs": [
    {
     "data": {
      "text/plain": [
       "0        0\n",
       "1        0\n",
       "2        0\n",
       "4        0\n",
       "5        0\n",
       "        ..\n",
       "95413    2\n",
       "95415    1\n",
       "95416    0\n",
       "95417    0\n",
       "95419    1\n",
       "Length: 75420, dtype: int64"
      ]
     },
     "execution_count": 55,
     "metadata": {},
     "output_type": "execute_result"
    }
   ],
   "source": [
    "predicted_data = scaled_data.copy()\n",
    "predicted_data = pd.concat([predicted_data, step], axis=1)\n",
    "predicted_data.rename({1:'grupo'}, axis=1, inplace=True)\n",
    "step = pd.Series(rfr.predict(predicted_data[predicted_data.grupo.isnull()].drop(columns='grupo')))\n",
    "step.index = predicted_data[predicted_data.grupo.isnull()].index"
   ]
  },
  {
   "cell_type": "code",
   "execution_count": 56,
   "id": "3a229fec",
   "metadata": {},
   "outputs": [],
   "source": [
    "dataFrame = pd.concat([predicted_data, step], axis=1)\n",
    "dataFrame.rename({0:'grupo2'}, inplace=True, axis=1)\n",
    "dataFrame.loc[dataFrame.grupo.isnull(), 'grupo'] = dataFrame.loc[dataFrame.grupo2.notnull(), 'grupo2']\n",
    "dataFrame.drop('grupo2', axis=1, inplace=True)\n",
    "dataFrame = dataFrame.astype({'grupo':int}).astype({'grupo':'category'})"
   ]
  },
  {
   "cell_type": "code",
   "execution_count": 60,
   "id": "f7e0ea86",
   "metadata": {},
   "outputs": [],
   "source": [
    "X, y = NearMiss().fit_resample(final.drop(columns='grupo'), final['grupo'])"
   ]
  },
  {
   "cell_type": "code",
   "execution_count": 62,
   "id": "badcdcfa",
   "metadata": {},
   "outputs": [
    {
     "data": {
      "text/plain": [
       "RandomForestClassifier(max_depth=3, n_jobs=-1, random_state=0)"
      ]
     },
     "execution_count": 62,
     "metadata": {},
     "output_type": "execute_result"
    }
   ],
   "source": [
    "rfr2 = RandomForestClassifier(n_jobs=-1, random_state=0, max_depth=3)\n",
    "\n",
    "xtrain, xtest, ytrain, ytest = train_test_split(X, y, test_size=0.35, random_state=0, stratify=y)\n",
    "rfr2.fit(xtrain, ytrain)"
   ]
  },
  {
   "cell_type": "code",
   "execution_count": 63,
   "id": "9cbab502",
   "metadata": {},
   "outputs": [
    {
     "data": {
      "text/plain": [
       "<seaborn.axisgrid.PairGrid at 0x7f07a7768940>"
      ]
     },
     "execution_count": 63,
     "metadata": {},
     "output_type": "execute_result"
    },
    {
     "data": {
      "image/png": "[encoded data removed]",
      "text/plain": [
       "<Figure size 762.375x720 with 20 Axes>"
      ]
     },
     "metadata": {
      "needs_background": "light"
     },
     "output_type": "display_data"
    }
   ],
   "source": [
    "dataFrame2 = pd.concat([X, pd.Series(rfr2.predict(X))], axis=1, ignore_index=True)\n",
    "dataFrame2.columns = dataFrame.columns"
   ]
  },
  {
   "cell_type": "code",
   "execution_count": 65,
   "id": "dcf75f33",
   "metadata": {},
   "outputs": [],
   "source": [
    "## Dataset + agrupamentos final\n",
    "\n",
    "dataFrame['grupo'] = np.select(\n",
    "    [\n",
    "        dataFrame['grupo'] == 0,\n",
    "        dataFrame['grupo'] == 1,\n",
    "        dataFrame['grupo'] == 2,\n",
    "    ],\n",
    "    [\n",
    "        'ouro',\n",
    "        'bronze',\n",
    "        'prata'\n",
    "    ]\n",
    ")"
   ]
  },
  {
   "cell_type": "code",
   "execution_count": 68,
   "id": "1826e6d8",
   "metadata": {},
   "outputs": [
    {
     "data": {
      "text/html": [
       "<div>\n",
       "<style scoped>\n",
       "    .dataframe tbody tr th:only-of-type {\n",
       "        vertical-align: middle;\n",
       "    }\n",
       "\n",
       "    .dataframe tbody tr th {\n",
       "        vertical-align: top;\n",
       "    }\n",
       "\n",
       "    .dataframe thead th {\n",
       "        text-align: right;\n",
       "    }\n",
       "</style>\n",
       "<table border=\"1\" class=\"dataframe\">\n",
       "  <thead>\n",
       "    <tr style=\"text-align: right;\">\n",
       "      <th></th>\n",
       "      <th>cliente</th>\n",
       "      <th>quantia_comprada</th>\n",
       "      <th>retencao</th>\n",
       "      <th>recencia</th>\n",
       "      <th>receita_media_por_quantia</th>\n",
       "      <th>grupo</th>\n",
       "    </tr>\n",
       "  </thead>\n",
       "  <tbody>\n",
       "    <tr>\n",
       "      <th>0</th>\n",
       "      <td>32ea3bdedab835c3aa6cb68ce66565ef</td>\n",
       "      <td>0.133333</td>\n",
       "      <td>1.000000</td>\n",
       "      <td>0.090659</td>\n",
       "      <td>0.002646</td>\n",
       "      <td>ouro</td>\n",
       "    </tr>\n",
       "    <tr>\n",
       "      <th>1</th>\n",
       "      <td>ccafc1c3f270410521c3c6f3b249870f</td>\n",
       "      <td>0.066667</td>\n",
       "      <td>0.960443</td>\n",
       "      <td>0.119505</td>\n",
       "      <td>0.006896</td>\n",
       "      <td>ouro</td>\n",
       "    </tr>\n",
       "    <tr>\n",
       "      <th>2</th>\n",
       "      <td>d8f3c4f441a9b59a29f977df16724f38</td>\n",
       "      <td>0.066667</td>\n",
       "      <td>0.919304</td>\n",
       "      <td>0.012363</td>\n",
       "      <td>0.005102</td>\n",
       "      <td>ouro</td>\n",
       "    </tr>\n",
       "    <tr>\n",
       "      <th>3</th>\n",
       "      <td>94e5ea5a8c1bf546db2739673060c43f</td>\n",
       "      <td>0.066667</td>\n",
       "      <td>0.916139</td>\n",
       "      <td>0.159341</td>\n",
       "      <td>0.006151</td>\n",
       "      <td>ouro</td>\n",
       "    </tr>\n",
       "    <tr>\n",
       "      <th>4</th>\n",
       "      <td>87b3f231705783eb2217e25851c0a45d</td>\n",
       "      <td>0.066667</td>\n",
       "      <td>0.903481</td>\n",
       "      <td>0.166209</td>\n",
       "      <td>0.018453</td>\n",
       "      <td>ouro</td>\n",
       "    </tr>\n",
       "    <tr>\n",
       "      <th>...</th>\n",
       "      <td>...</td>\n",
       "      <td>...</td>\n",
       "      <td>...</td>\n",
       "      <td>...</td>\n",
       "      <td>...</td>\n",
       "      <td>...</td>\n",
       "    </tr>\n",
       "    <tr>\n",
       "      <th>95415</th>\n",
       "      <td>42c8ccbe558d063718d19cff01505af9</td>\n",
       "      <td>0.000000</td>\n",
       "      <td>0.000000</td>\n",
       "      <td>0.587912</td>\n",
       "      <td>0.018336</td>\n",
       "      <td>bronze</td>\n",
       "    </tr>\n",
       "    <tr>\n",
       "      <th>95416</th>\n",
       "      <td>42c837a3d7df8cfa87de63fbc1aade2f</td>\n",
       "      <td>0.000000</td>\n",
       "      <td>0.000000</td>\n",
       "      <td>0.054945</td>\n",
       "      <td>0.006541</td>\n",
       "      <td>ouro</td>\n",
       "    </tr>\n",
       "    <tr>\n",
       "      <th>95417</th>\n",
       "      <td>42c7e57c48d38fc34ed69508a092abcd</td>\n",
       "      <td>0.000000</td>\n",
       "      <td>0.000000</td>\n",
       "      <td>0.109890</td>\n",
       "      <td>0.009438</td>\n",
       "      <td>ouro</td>\n",
       "    </tr>\n",
       "    <tr>\n",
       "      <th>95418</th>\n",
       "      <td>42f3aebe1309a0f58863f1ec28898969</td>\n",
       "      <td>0.000000</td>\n",
       "      <td>0.000000</td>\n",
       "      <td>0.074176</td>\n",
       "      <td>0.002412</td>\n",
       "      <td>ouro</td>\n",
       "    </tr>\n",
       "    <tr>\n",
       "      <th>95419</th>\n",
       "      <td>ffffd2657e2aad2907e67c3e9daecbeb</td>\n",
       "      <td>0.000000</td>\n",
       "      <td>0.000000</td>\n",
       "      <td>0.670330</td>\n",
       "      <td>0.004538</td>\n",
       "      <td>bronze</td>\n",
       "    </tr>\n",
       "  </tbody>\n",
       "</table>\n",
       "<p>95420 rows × 6 columns</p>\n",
       "</div>"
      ],
      "text/plain": [
       "                                cliente  quantia_comprada  retencao  recencia  \\\n",
       "0      32ea3bdedab835c3aa6cb68ce66565ef          0.133333  1.000000  0.090659   \n",
       "1      ccafc1c3f270410521c3c6f3b249870f          0.066667  0.960443  0.119505   \n",
       "2      d8f3c4f441a9b59a29f977df16724f38          0.066667  0.919304  0.012363   \n",
       "3      94e5ea5a8c1bf546db2739673060c43f          0.066667  0.916139  0.159341   \n",
       "4      87b3f231705783eb2217e25851c0a45d          0.066667  0.903481  0.166209   \n",
       "...                                 ...               ...       ...       ...   \n",
       "95415  42c8ccbe558d063718d19cff01505af9          0.000000  0.000000  0.587912   \n",
       "95416  42c837a3d7df8cfa87de63fbc1aade2f          0.000000  0.000000  0.054945   \n",
       "95417  42c7e57c48d38fc34ed69508a092abcd          0.000000  0.000000  0.109890   \n",
       "95418  42f3aebe1309a0f58863f1ec28898969          0.000000  0.000000  0.074176   \n",
       "95419  ffffd2657e2aad2907e67c3e9daecbeb          0.000000  0.000000  0.670330   \n",
       "\n",
       "       receita_media_por_quantia   grupo  \n",
       "0                       0.002646    ouro  \n",
       "1                       0.006896    ouro  \n",
       "2                       0.005102    ouro  \n",
       "3                       0.006151    ouro  \n",
       "4                       0.018453    ouro  \n",
       "...                          ...     ...  \n",
       "95415                   0.018336  bronze  \n",
       "95416                   0.006541    ouro  \n",
       "95417                   0.009438    ouro  \n",
       "95418                   0.002412    ouro  \n",
       "95419                   0.004538  bronze  \n",
       "\n",
       "[95420 rows x 6 columns]"
      ]
     },
     "execution_count": 68,
     "metadata": {},
     "output_type": "execute_result"
    }
   ],
   "source": [
    "pd.concat([Cliente['cliente'], dataFrame], axis=1)#.to_csv(...)"
   ]
  }
 ],
 "metadata": {
  "colab": {
   "name": "OlistAnalysis.ipynb",
   "provenance": []
  },
  "kernelspec": {
   "display_name": "env",
   "language": "python",
   "name": "env"
  },
  "language_info": {
   "codemirror_mode": {
    "name": "ipython",
    "version": 3
   },
   "file_extension": ".py",
   "mimetype": "text/x-python",
   "name": "python",
   "nbconvert_exporter": "python",
   "pygments_lexer": "ipython3",
   "version": "3.10.1"
  }
 },
 "nbformat": 4,
 "nbformat_minor": 5
}
